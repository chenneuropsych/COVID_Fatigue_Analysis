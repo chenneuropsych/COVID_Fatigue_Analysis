{
 "cells": [
  {
   "cell_type": "code",
   "execution_count": 58,
   "id": "707f0e97",
   "metadata": {},
   "outputs": [],
   "source": [
    "import heartpy as hp\n",
    "import pandas as pd\n",
    "import numpy as np\n",
    "import os\n",
    "import time\n",
    "from datetime import datetime, timedelta\n",
    "\n",
    "#import matplotlib.pyplot as plt\n",
    "#from scipy.signal import cheby2, sosfilt\n"
   ]
  },
  {
   "cell_type": "code",
   "execution_count": 3,
   "id": "42447c4a",
   "metadata": {},
   "outputs": [
    {
     "data": {
      "text/plain": [
       "'C:\\\\Users\\\\Owner\\\\Rutgers University\\\\Michelle Chen - Rutgers_Neuropsych_Lab\\\\COVID_Fatigue\\\\RC_award\\\\Data\\\\Empatica'"
      ]
     },
     "execution_count": 3,
     "metadata": {},
     "output_type": "execute_result"
    }
   ],
   "source": [
    "os.chdir('C:\\\\Users\\\\Owner\\\\Rutgers University\\\\Michelle Chen - Rutgers_Neuropsych_Lab\\\\COVID_Fatigue\\\\RC_award\\\\Data\\\\Empatica')\n",
    "os.getcwd()"
   ]
  },
  {
   "cell_type": "code",
   "execution_count": 8,
   "id": "6011407f",
   "metadata": {},
   "outputs": [],
   "source": [
    "def concatenate_lab_data(SubjID):\n",
    "    wd = os.getcwd() + '\\\\' + SubjID + '\\\\' + SubjID + '_baseline\\\\'\n",
    "    eda = hp.get_data(wd + 'EDA.csv')\n",
    "    bvp = hp.get_data(wd + 'BVP.csv')\n",
    "    acc = hp.get_data(wd + 'ACC.csv')\n",
    "    temp = hp.get_data(wd + 'TEMP.csv')\n",
    "    \n",
    "    init_time = datetime.fromtimestamp(eda[0]) #they all have the same initial time\n",
    "    \n",
    "    eda = eda[2:]\n",
    "    bvp = bvp[2:]\n",
    "    acc = acc[2:]\n",
    "    temp = temp[2:]\n",
    "    \n",
    "    eda_interval = timedelta(seconds=1/4)\n",
    "    bvp_interval = timedelta(seconds=1/64)\n",
    "    acc_interval = timedelta(seconds=1/32)\n",
    "    temp_interval = timedelta(seconds=1/4)\n",
    "    \n",
    "    eda_timestamps = [init_time + i * eda_interval for i in range(len(eda))]\n",
    "    bvp_timestamps = [init_time + i * bvp_interval for i in range(len(bvp))]\n",
    "    acc_timestamps = [init_time + i * acc_interval for i in range(len(acc))]\n",
    "    temp_timestamps = [init_time + i * temp_interval for i in range(len(temp))]\n",
    "    \n",
    "    # Create a new DataFrame with the timestamps and the original data columns\n",
    "    eda_df = pd.DataFrame(data = eda, columns=['EDA (4 Hz)'])\n",
    "    eda_df['timestamp'] = eda_timestamps\n",
    "\n",
    "    bvp_df = pd.DataFrame(data = bvp, columns=['BVP (64 Hz)'])\n",
    "    bvp_df['timestamp'] = bvp_timestamps\n",
    "\n",
    "    acc_df = pd.DataFrame(data = acc, columns=['ACC X (32 Hz)', 'ACC Y (32 Hz)', 'ACC Z (32 Hz)'])\n",
    "    acc_df['timestamp'] = acc_timestamps\n",
    "\n",
    "    temp_df = pd.DataFrame(data = temp, columns=['TEMP (4 Hz)'])\n",
    "    temp_df['timestamp'] = temp_timestamps\n",
    "    \n",
    "    #merge dataframes together, change column order and fill in NA values\n",
    "    merged_df = pd.merge(bvp_df, eda_df, on='timestamp', how='left').merge(acc_df, on='timestamp', how='left').merge(temp_df, on='timestamp', how='left')\n",
    "    \n",
    "    new_cols = ['timestamp','BVP (64 Hz)', 'EDA (4 Hz)','TEMP (4 Hz)','ACC X (32 Hz)','ACC Y (32 Hz)','ACC Z (32 Hz)',]\n",
    "\n",
    "    merged_df = merged_df[new_cols]\n",
    "    merged_df = merged_df.ffill(axis=0)\n",
    "    \n",
    "    return merged_df"
   ]
  },
  {
   "cell_type": "code",
   "execution_count": 9,
   "id": "c663ae2a",
   "metadata": {},
   "outputs": [],
   "source": [
    "cov4 = concatenate_lab_data('Cov4')\n",
    "cov7 = concatenate_lab_data('Cov7')\n",
    "cov8 = concatenate_lab_data('Cov8')\n",
    "cov13 = concatenate_lab_data('Cov13')\n",
    "cov14 = concatenate_lab_data('Cov14')\n",
    "cov20 = concatenate_lab_data('Cov20')"
   ]
  },
  {
   "cell_type": "code",
   "execution_count": 10,
   "id": "8e54129b",
   "metadata": {},
   "outputs": [],
   "source": [
    "#now we need to add the fatigue ratings\n",
    "ewd = 'C:\\\\Users\\\\Owner\\\\Rutgers University\\\\Michelle Chen - Rutgers_Neuropsych_Lab\\\\COVID_Fatigue\\\\RC_award\\\\Data\\\\E-Prime\\\\'\n",
    "\n",
    "def get_ratings(SubjID):\n",
    "    epr = pd.read_csv(ewd + SubjID + '\\\\' + SubjID + '_fatigue_ratings.txt', \n",
    "                      sep=':', encoding='UTF-16LE', on_bad_lines='skip')\n",
    "    epr = epr.filter(regex='FatigueRating', axis=0)\n",
    "    epr = epr.rename(columns={\"*** Header Start ***\": \"Rating\"})\n",
    "  \n",
    "    clean = []\n",
    "    for i in range(len(epr)):\n",
    "        try:\n",
    "            clean.append(int(pd.Series.tolist(epr.iloc[i])[0]))\n",
    "        except Exception:\n",
    "            pass\n",
    "    \n",
    "    d = {'Block': [0,1,2,3,4,5,6], 'Rating': clean}\n",
    "    clean_df = pd.DataFrame(d)\n",
    "    \n",
    "    return clean_df"
   ]
  },
  {
   "cell_type": "code",
   "execution_count": 60,
   "id": "b8417fde",
   "metadata": {},
   "outputs": [],
   "source": [
    "#we also need to extract the tags for each block\n",
    "\n",
    "def get_tags(SubjID, data):\n",
    "    wd = os.getcwd() + '\\\\' + SubjID + '\\\\' + SubjID + '_baseline\\\\'\n",
    "    tags = hp.get_data(wd + 'tags.csv')\n",
    "    \n",
    "    if len(tags) != 9:\n",
    "        print(\"Incorrect number of tags. There are \" + len(tags) + \" when there should be 9.\")\n",
    "        return None\n",
    "    \n",
    "    init_time= time.mktime(data.loc[0]['timestamp'].timetuple())\n",
    "    sample_rate = 64\n",
    "\n",
    "    tag1 = int((tags[0]-init_time)*sample_rate) #number of measurements that are in warmup period, rounded\n",
    "    baseline = int((tags[1]-init_time)*sample_rate) #end of baseline\n",
    "\n",
    "    block1_init = int((tags[2]-init_time)*sample_rate) #end of block 1\n",
    "    block1 = int((tags[3]-init_time)*sample_rate) #end of block 1\n",
    "    block2 = int((tags[4]-init_time)*sample_rate) #end of block 2\n",
    "    block3 = int((tags[5]-init_time)*sample_rate) #end of block 3\n",
    "    block4 = int((tags[6]-init_time)*sample_rate) #end of block 4\n",
    "    block5 = int((tags[7]-init_time)*sample_rate) #end of block 5\n",
    "    block6 = int((tags[8]-init_time)*sample_rate) #end of block 6\n",
    "    \n",
    "    "
   ]
  },
  {
   "cell_type": "code",
   "execution_count": 59,
   "id": "0caf992d",
   "metadata": {},
   "outputs": [
    {
     "data": {
      "text/plain": [
       "1677266615.0"
      ]
     },
     "execution_count": 59,
     "metadata": {},
     "output_type": "execute_result"
    }
   ],
   "source": [
    "get_tags"
   ]
  },
  {
   "cell_type": "code",
   "execution_count": 52,
   "id": "ca458b6f",
   "metadata": {},
   "outputs": [
    {
     "ename": "TypeError",
     "evalue": "unsupported operand type(s) for -: 'numpy.float64' and 'Timestamp'",
     "output_type": "error",
     "traceback": [
      "\u001b[1;31m---------------------------------------------------------------------------\u001b[0m",
      "\u001b[1;31mTypeError\u001b[0m                                 Traceback (most recent call last)",
      "Cell \u001b[1;32mIn[52], line 1\u001b[0m\n\u001b[1;32m----> 1\u001b[0m \u001b[43mget_tags\u001b[49m\u001b[43m(\u001b[49m\u001b[38;5;124;43m'\u001b[39;49m\u001b[38;5;124;43mCov4\u001b[39;49m\u001b[38;5;124;43m'\u001b[39;49m\u001b[43m,\u001b[49m\u001b[43m \u001b[49m\u001b[43mcov4\u001b[49m\u001b[43m)\u001b[49m\n",
      "Cell \u001b[1;32mIn[51], line 14\u001b[0m, in \u001b[0;36mget_tags\u001b[1;34m(SubjID, data)\u001b[0m\n\u001b[0;32m     11\u001b[0m init_time\u001b[38;5;241m=\u001b[39m data\u001b[38;5;241m.\u001b[39mloc[\u001b[38;5;241m0\u001b[39m][\u001b[38;5;124m'\u001b[39m\u001b[38;5;124mtimestamp\u001b[39m\u001b[38;5;124m'\u001b[39m]\n\u001b[0;32m     12\u001b[0m sample_rate \u001b[38;5;241m=\u001b[39m \u001b[38;5;241m64\u001b[39m\n\u001b[1;32m---> 14\u001b[0m tag1 \u001b[38;5;241m=\u001b[39m \u001b[38;5;28mint\u001b[39m((\u001b[43mtags\u001b[49m\u001b[43m[\u001b[49m\u001b[38;5;241;43m0\u001b[39;49m\u001b[43m]\u001b[49m\u001b[38;5;241;43m-\u001b[39;49m\u001b[43minit_time\u001b[49m)\u001b[38;5;241m*\u001b[39msample_rate) \u001b[38;5;66;03m#number of measurements that are in warmup period, rounded\u001b[39;00m\n\u001b[0;32m     15\u001b[0m baseline \u001b[38;5;241m=\u001b[39m \u001b[38;5;28mint\u001b[39m((tags[\u001b[38;5;241m1\u001b[39m]\u001b[38;5;241m-\u001b[39minit_time)\u001b[38;5;241m*\u001b[39msample_rate) \u001b[38;5;66;03m#end of baseline\u001b[39;00m\n\u001b[0;32m     17\u001b[0m block1_init \u001b[38;5;241m=\u001b[39m \u001b[38;5;28mint\u001b[39m((tags[\u001b[38;5;241m2\u001b[39m]\u001b[38;5;241m-\u001b[39minit_time)\u001b[38;5;241m*\u001b[39msample_rate) \u001b[38;5;66;03m#end of block 1\u001b[39;00m\n",
      "\u001b[1;31mTypeError\u001b[0m: unsupported operand type(s) for -: 'numpy.float64' and 'Timestamp'"
     ]
    }
   ],
   "source": [
    "get_tags('Cov4', cov4)"
   ]
  },
  {
   "cell_type": "code",
   "execution_count": 15,
   "id": "ab48af91",
   "metadata": {},
   "outputs": [],
   "source": [
    "nwd = 'C:\\\\Users\\\\Owner\\\\Rutgers University\\\\Michelle Chen - Rutgers_Neuropsych_Lab\\\\COVID_Fatigue\\\\RC_award\\\\Data\\\\Concatenated_Data\\\\'\n",
    "\n",
    "cov4.to_csv(nwd + 'Cov4_lab.csv', index=False)\n",
    "cov7.to_csv(nwd + 'Cov7_lab.csv', index=False)\n",
    "cov8.to_csv(nwd + 'Cov8_lab.csv', index=False)\n",
    "cov13.to_csv(nwd + 'Cov13_lab.csv', index=False)\n",
    "cov14.to_csv(nwd + 'Cov14_lab.csv', index=False)\n",
    "cov20.to_csv(nwd + 'Cov20_lab.csv', index=False)"
   ]
  }
 ],
 "metadata": {
  "kernelspec": {
   "display_name": "Python 3 (ipykernel)",
   "language": "python",
   "name": "python3"
  },
  "language_info": {
   "codemirror_mode": {
    "name": "ipython",
    "version": 3
   },
   "file_extension": ".py",
   "mimetype": "text/x-python",
   "name": "python",
   "nbconvert_exporter": "python",
   "pygments_lexer": "ipython3",
   "version": "3.11.4"
  }
 },
 "nbformat": 4,
 "nbformat_minor": 5
}

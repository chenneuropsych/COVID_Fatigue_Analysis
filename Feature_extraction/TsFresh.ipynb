{
 "cells": [
  {
   "cell_type": "markdown",
   "metadata": {},
   "source": [
    "# TSFresh statistical feature extraction\n",
    "Written by Darshee Machhar in google colaboratory\n",
    "\n",
    "Last edited by Kat 2/28"
   ]
  },
  {
   "cell_type": "code",
   "execution_count": 1,
   "metadata": {},
   "outputs": [
    {
     "name": "stdout",
     "output_type": "stream",
     "text": [
      "WARNING: pip is being invoked by an old script wrapper. This will fail in a future version of pip.\n",
      "Please see https://github.com/pypa/pip/issues/5599 for advice on fixing the underlying issue.\n",
      "To avoid this problem you can invoke Python with '-m pip' instead of running pip directly.\n",
      "Requirement already satisfied: pip in ./.local/lib/python3.7/site-packages (23.3.1)\n",
      "Requirement already satisfied: setuptools in ./.local/lib/python3.7/site-packages (68.0.0)\n"
     ]
    }
   ],
   "source": [
    "!pip install --user --upgrade pip setuptools"
   ]
  },
  {
   "cell_type": "code",
   "execution_count": 2,
   "metadata": {},
   "outputs": [
    {
     "name": "stdout",
     "output_type": "stream",
     "text": [
      "WARNING: pip is being invoked by an old script wrapper. This will fail in a future version of pip.\n",
      "Please see https://github.com/pypa/pip/issues/5599 for advice on fixing the underlying issue.\n",
      "To avoid this problem you can invoke Python with '-m pip' instead of running pip directly.\n",
      "Requirement already satisfied: torchvision in /projectsp/community/py-data-science-stack/5.1.0/kp807/envs/fastai/lib/python3.7/site-packages (0.2.1)\n",
      "WARNING: pip is being invoked by an old script wrapper. This will fail in a future version of pip.\n",
      "Please see https://github.com/pypa/pip/issues/5599 for advice on fixing the underlying issue.\n",
      "To avoid this problem you can invoke Python with '-m pip' instead of running pip directly.\n",
      "Requirement already satisfied: cython in ./.local/lib/python3.7/site-packages (3.0.6)\n",
      "/bin/sh: 0.3,: No such file or directory\n",
      "WARNING: pip is being invoked by an old script wrapper. This will fail in a future version of pip.\n",
      "Please see https://github.com/pypa/pip/issues/5599 for advice on fixing the underlying issue.\n",
      "To avoid this problem you can invoke Python with '-m pip' instead of running pip directly.\n",
      "\u001b[31mERROR: Could not find a version that satisfies the requirement gcc (from versions: none)\u001b[0m\u001b[31m\n",
      "\u001b[0m\u001b[31mERROR: No matching distribution found for gcc\u001b[0m\u001b[31m\n",
      "\u001b[0mWARNING: pip is being invoked by an old script wrapper. This will fail in a future version of pip.\n",
      "Please see https://github.com/pypa/pip/issues/5599 for advice on fixing the underlying issue.\n",
      "To avoid this problem you can invoke Python with '-m pip' instead of running pip directly.\n",
      "Collecting regex==2018.01.10\n",
      "  Using cached regex-2018.01.10.tar.gz (612 kB)\n",
      "  Preparing metadata (setup.py) ... \u001b[?25ldone\n",
      "\u001b[?25hBuilding wheels for collected packages: regex\n",
      "  Building wheel for regex (setup.py) ... \u001b[?25lerror\n",
      "  \u001b[1;31merror\u001b[0m: \u001b[1msubprocess-exited-with-error\u001b[0m\n",
      "  \n",
      "  \u001b[31m×\u001b[0m \u001b[32mpython setup.py bdist_wheel\u001b[0m did not run successfully.\n",
      "  \u001b[31m│\u001b[0m exit code: \u001b[1;36m1\u001b[0m\n",
      "  \u001b[31m╰─>\u001b[0m \u001b[31m[16 lines of output]\u001b[0m\n",
      "  \u001b[31m   \u001b[0m /home/dm1639/.local/lib/python3.7/site-packages/setuptools/dist.py:510: InformationOnly: Normalizing '2018.01.10' to '2018.1.10'\n",
      "  \u001b[31m   \u001b[0m   self._validate_version(self.metadata.version)\n",
      "  \u001b[31m   \u001b[0m running bdist_wheel\n",
      "  \u001b[31m   \u001b[0m running build\n",
      "  \u001b[31m   \u001b[0m running build_py\n",
      "  \u001b[31m   \u001b[0m creating build\n",
      "  \u001b[31m   \u001b[0m creating build/lib.linux-x86_64-cpython-37\n",
      "  \u001b[31m   \u001b[0m copying regex_3/regex.py -> build/lib.linux-x86_64-cpython-37\n",
      "  \u001b[31m   \u001b[0m copying regex_3/_regex_core.py -> build/lib.linux-x86_64-cpython-37\n",
      "  \u001b[31m   \u001b[0m copying regex_3/test_regex.py -> build/lib.linux-x86_64-cpython-37\n",
      "  \u001b[31m   \u001b[0m running build_ext\n",
      "  \u001b[31m   \u001b[0m building '_regex' extension\n",
      "  \u001b[31m   \u001b[0m creating build/temp.linux-x86_64-cpython-37\n",
      "  \u001b[31m   \u001b[0m creating build/temp.linux-x86_64-cpython-37/regex_3\n",
      "  \u001b[31m   \u001b[0m gcc -pthread -B /projects/community/py-data-science-stack/5.1.0/kp807/envs/fastai/compiler_compat -Wl,--sysroot=/ -Wsign-compare -DNDEBUG -g -fwrapv -O3 -Wall -Wstrict-prototypes -fPIC -I/projects/community/py-data-science-stack/5.1.0/kp807/envs/fastai/include/python3.7m -c regex_3/_regex.c -o build/temp.linux-x86_64-cpython-37/regex_3/_regex.o\n",
      "  \u001b[31m   \u001b[0m error: command 'gcc' failed: No such file or directory: 'gcc'\n",
      "  \u001b[31m   \u001b[0m \u001b[31m[end of output]\u001b[0m\n",
      "  \n",
      "  \u001b[1;35mnote\u001b[0m: This error originates from a subprocess, and is likely not a problem with pip.\n",
      "\u001b[31m  ERROR: Failed building wheel for regex\u001b[0m\u001b[31m\n",
      "\u001b[0m\u001b[?25h  Running setup.py clean for regex\n",
      "Failed to build regex\n",
      "\u001b[31mERROR: Could not build wheels for regex, which is required to install pyproject.toml-based projects\u001b[0m\u001b[31m\n",
      "\u001b[0m/bin/sh: 1.0.0,: No such file or directory\n"
     ]
    }
   ],
   "source": [
    "!pip install --user torchvision --no-deps\n",
    "!pip install --user cython\n",
    "!pip install --user dill<0.3,>=0.2.7\n",
    "!pip install --user gcc\n",
    "!pip install --user regex==2018.01.10\n",
    "!pip install --user msgpack<1.0.0,>=0.5.6"
   ]
  },
  {
   "cell_type": "code",
   "execution_count": 3,
   "metadata": {},
   "outputs": [
    {
     "name": "stdout",
     "output_type": "stream",
     "text": [
      "WARNING: pip is being invoked by an old script wrapper. This will fail in a future version of pip.\n",
      "Please see https://github.com/pypa/pip/issues/5599 for advice on fixing the underlying issue.\n",
      "To avoid this problem you can invoke Python with '-m pip' instead of running pip directly.\n",
      "Defaulting to user installation because normal site-packages is not writeable\n",
      "Requirement already satisfied: pandas in ./.local/lib/python3.7/site-packages (1.3.5)\n",
      "Requirement already satisfied: python-dateutil>=2.7.3 in /projectsp/community/py-data-science-stack/5.1.0/kp807/envs/fastai/lib/python3.7/site-packages (from pandas) (2.7.5)\n",
      "Requirement already satisfied: pytz>=2017.3 in /projectsp/community/py-data-science-stack/5.1.0/kp807/envs/fastai/lib/python3.7/site-packages (from pandas) (2018.9)\n",
      "Requirement already satisfied: numpy>=1.17.3 in ./.local/lib/python3.7/site-packages (from pandas) (1.21.6)\n",
      "Requirement already satisfied: six>=1.5 in /projectsp/community/py-data-science-stack/5.1.0/kp807/envs/fastai/lib/python3.7/site-packages (from python-dateutil>=2.7.3->pandas) (1.12.0)\n"
     ]
    }
   ],
   "source": [
    "!pip install pandas"
   ]
  },
  {
   "cell_type": "code",
   "execution_count": 4,
   "metadata": {},
   "outputs": [
    {
     "name": "stdout",
     "output_type": "stream",
     "text": [
      "WARNING: pip is being invoked by an old script wrapper. This will fail in a future version of pip.\n",
      "Please see https://github.com/pypa/pip/issues/5599 for advice on fixing the underlying issue.\n",
      "To avoid this problem you can invoke Python with '-m pip' instead of running pip directly.\n",
      "Requirement already satisfied: tsfresh in ./.local/lib/python3.7/site-packages (0.20.1)\n",
      "Requirement already satisfied: requests>=2.9.1 in /projectsp/community/py-data-science-stack/5.1.0/kp807/envs/fastai/lib/python3.7/site-packages (from tsfresh) (2.21.0)\n",
      "Requirement already satisfied: numpy>=1.15.1 in ./.local/lib/python3.7/site-packages (from tsfresh) (1.21.6)\n",
      "Requirement already satisfied: pandas>=0.25.0 in ./.local/lib/python3.7/site-packages (from tsfresh) (1.3.5)\n",
      "Requirement already satisfied: scipy>=1.2.0 in ./.local/lib/python3.7/site-packages (from tsfresh) (1.7.3)\n",
      "Requirement already satisfied: statsmodels>=0.13 in ./.local/lib/python3.7/site-packages (from tsfresh) (0.13.5)\n",
      "Requirement already satisfied: patsy>=0.4.1 in ./.local/lib/python3.7/site-packages (from tsfresh) (0.5.4)\n",
      "Requirement already satisfied: scikit-learn>=0.22.0 in ./.local/lib/python3.7/site-packages (from tsfresh) (1.0.2)\n",
      "Requirement already satisfied: tqdm>=4.10.0 in ./.local/lib/python3.7/site-packages (from tsfresh) (4.64.1)\n",
      "Requirement already satisfied: dask>=2.9.0 in ./.local/lib/python3.7/site-packages (from dask[dataframe]>=2.9.0->tsfresh) (2022.2.0)\n",
      "Requirement already satisfied: distributed>=2.11.0 in ./.local/lib/python3.7/site-packages (from tsfresh) (2022.2.0)\n",
      "Requirement already satisfied: stumpy>=1.7.2 in ./.local/lib/python3.7/site-packages (from tsfresh) (1.12.0)\n",
      "Requirement already satisfied: cloudpickle in ./.local/lib/python3.7/site-packages (from tsfresh) (2.2.1)\n",
      "Requirement already satisfied: fsspec>=0.6.0 in ./.local/lib/python3.7/site-packages (from dask>=2.9.0->dask[dataframe]>=2.9.0->tsfresh) (2023.1.0)\n",
      "Requirement already satisfied: packaging>=20.0 in ./.local/lib/python3.7/site-packages (from dask>=2.9.0->dask[dataframe]>=2.9.0->tsfresh) (23.2)\n",
      "Requirement already satisfied: partd>=0.3.10 in ./.local/lib/python3.7/site-packages (from dask>=2.9.0->dask[dataframe]>=2.9.0->tsfresh) (1.4.1)\n",
      "Requirement already satisfied: pyyaml>=5.3.1 in ./.local/lib/python3.7/site-packages (from dask>=2.9.0->dask[dataframe]>=2.9.0->tsfresh) (6.0.1)\n",
      "Requirement already satisfied: toolz>=0.8.2 in /projectsp/community/py-data-science-stack/5.1.0/kp807/envs/fastai/lib/python3.7/site-packages (from dask>=2.9.0->dask[dataframe]>=2.9.0->tsfresh) (0.9.0)\n",
      "Requirement already satisfied: click>=6.6 in ./.local/lib/python3.7/site-packages (from distributed>=2.11.0->tsfresh) (8.1.7)\n",
      "Requirement already satisfied: jinja2 in /projectsp/community/py-data-science-stack/5.1.0/kp807/envs/fastai/lib/python3.7/site-packages (from distributed>=2.11.0->tsfresh) (2.10)\n",
      "Requirement already satisfied: msgpack>=0.6.0 in ./.local/lib/python3.7/site-packages (from distributed>=2.11.0->tsfresh) (1.0.5)\n",
      "Requirement already satisfied: psutil>=5.0 in ./.local/lib/python3.7/site-packages (from distributed>=2.11.0->tsfresh) (5.9.6)\n",
      "Requirement already satisfied: sortedcontainers!=2.0.0,!=2.0.1 in ./.local/lib/python3.7/site-packages (from distributed>=2.11.0->tsfresh) (2.4.0)\n",
      "Requirement already satisfied: tblib>=1.6.0 in ./.local/lib/python3.7/site-packages (from distributed>=2.11.0->tsfresh) (2.0.0)\n",
      "Requirement already satisfied: zict>=0.1.3 in ./.local/lib/python3.7/site-packages (from distributed>=2.11.0->tsfresh) (2.2.0)\n",
      "Requirement already satisfied: setuptools in ./.local/lib/python3.7/site-packages (from distributed>=2.11.0->tsfresh) (68.0.0)\n",
      "Requirement already satisfied: tornado>=5 in /projectsp/community/py-data-science-stack/5.1.0/kp807/envs/fastai/lib/python3.7/site-packages (from distributed>=2.11.0->tsfresh) (5.1.1)\n",
      "Requirement already satisfied: python-dateutil>=2.7.3 in /projectsp/community/py-data-science-stack/5.1.0/kp807/envs/fastai/lib/python3.7/site-packages (from pandas>=0.25.0->tsfresh) (2.7.5)\n",
      "Requirement already satisfied: pytz>=2017.3 in /projectsp/community/py-data-science-stack/5.1.0/kp807/envs/fastai/lib/python3.7/site-packages (from pandas>=0.25.0->tsfresh) (2018.9)\n",
      "Requirement already satisfied: six in /projectsp/community/py-data-science-stack/5.1.0/kp807/envs/fastai/lib/python3.7/site-packages (from patsy>=0.4.1->tsfresh) (1.12.0)\n",
      "Requirement already satisfied: chardet<3.1.0,>=3.0.2 in /projectsp/community/py-data-science-stack/5.1.0/kp807/envs/fastai/lib/python3.7/site-packages (from requests>=2.9.1->tsfresh) (3.0.4)\n",
      "Requirement already satisfied: idna<2.9,>=2.5 in /projectsp/community/py-data-science-stack/5.1.0/kp807/envs/fastai/lib/python3.7/site-packages (from requests>=2.9.1->tsfresh) (2.8)\n",
      "Requirement already satisfied: urllib3<1.25,>=1.21.1 in /projectsp/community/py-data-science-stack/5.1.0/kp807/envs/fastai/lib/python3.7/site-packages (from requests>=2.9.1->tsfresh) (1.24.1)\n",
      "Requirement already satisfied: certifi>=2017.4.17 in /projectsp/community/py-data-science-stack/5.1.0/kp807/envs/fastai/lib/python3.7/site-packages (from requests>=2.9.1->tsfresh) (2020.4.5.1)\n",
      "Requirement already satisfied: joblib>=0.11 in /projectsp/community/py-data-science-stack/5.1.0/kp807/envs/fastai/lib/python3.7/site-packages (from scikit-learn>=0.22.0->tsfresh) (0.14.0)\n",
      "Requirement already satisfied: threadpoolctl>=2.0.0 in ./.local/lib/python3.7/site-packages (from scikit-learn>=0.22.0->tsfresh) (3.1.0)\n",
      "Requirement already satisfied: numba>=0.55.2 in ./.local/lib/python3.7/site-packages (from stumpy>=1.7.2->tsfresh) (0.56.4)\n",
      "Requirement already satisfied: importlib-metadata in ./.local/lib/python3.7/site-packages (from click>=6.6->distributed>=2.11.0->tsfresh) (6.7.0)\n",
      "Requirement already satisfied: llvmlite<0.40,>=0.39.0dev0 in ./.local/lib/python3.7/site-packages (from numba>=0.55.2->stumpy>=1.7.2->tsfresh) (0.39.1)\n",
      "Requirement already satisfied: locket in ./.local/lib/python3.7/site-packages (from partd>=0.3.10->dask>=2.9.0->dask[dataframe]>=2.9.0->tsfresh) (1.0.0)\n",
      "Requirement already satisfied: heapdict in ./.local/lib/python3.7/site-packages (from zict>=0.1.3->distributed>=2.11.0->tsfresh) (1.0.1)\n",
      "Requirement already satisfied: MarkupSafe>=0.23 in /projectsp/community/py-data-science-stack/5.1.0/kp807/envs/fastai/lib/python3.7/site-packages (from jinja2->distributed>=2.11.0->tsfresh) (1.1.0)\n",
      "Requirement already satisfied: zipp>=0.5 in ./.local/lib/python3.7/site-packages (from importlib-metadata->click>=6.6->distributed>=2.11.0->tsfresh) (3.15.0)\n",
      "Requirement already satisfied: typing-extensions>=3.6.4 in ./.local/lib/python3.7/site-packages (from importlib-metadata->click>=6.6->distributed>=2.11.0->tsfresh) (4.7.1)\n"
     ]
    }
   ],
   "source": [
    "!pip install --user tsfresh"
   ]
  },
  {
   "cell_type": "code",
   "execution_count": 5,
   "metadata": {},
   "outputs": [
    {
     "name": "stderr",
     "output_type": "stream",
     "text": [
      "/home/dm1639/.local/lib/python3.7/site-packages/pandas/compat/_optional.py:138: UserWarning: Pandas requires version '2.7.0' or newer of 'numexpr' (version '2.6.8' currently installed).\n",
      "  warnings.warn(msg, UserWarning)\n"
     ]
    }
   ],
   "source": [
    "import os\n",
    "import pandas as pd\n",
    "import numpy as np\n",
    "from tsfresh import extract_features"
   ]
  },
  {
   "cell_type": "code",
   "execution_count": 6,
   "metadata": {},
   "outputs": [
    {
     "name": "stdout",
     "output_type": "stream",
     "text": [
      "Cov13\n",
      "0.0\n"
     ]
    },
    {
     "name": "stderr",
     "output_type": "stream",
     "text": [
      "Feature Extraction: 100%|██████████| 1/1 [05:34<00:00, 334.22s/it]"
     ]
    },
    {
     "name": "stdout",
     "output_type": "stream",
     "text": [
      "1.0\n"
     ]
    },
    {
     "name": "stderr",
     "output_type": "stream",
     "text": [
      "\n",
      "Feature Extraction: 100%|██████████| 1/1 [04:26<00:00, 266.80s/it]"
     ]
    },
    {
     "name": "stdout",
     "output_type": "stream",
     "text": [
      "2.0\n"
     ]
    },
    {
     "name": "stderr",
     "output_type": "stream",
     "text": [
      "\n",
      "Feature Extraction: 100%|██████████| 1/1 [03:06<00:00, 186.16s/it]"
     ]
    },
    {
     "name": "stdout",
     "output_type": "stream",
     "text": [
      "3.0\n"
     ]
    },
    {
     "name": "stderr",
     "output_type": "stream",
     "text": [
      "\n",
      "Feature Extraction: 100%|██████████| 1/1 [03:16<00:00, 196.61s/it]"
     ]
    },
    {
     "name": "stdout",
     "output_type": "stream",
     "text": [
      "4.0\n"
     ]
    },
    {
     "name": "stderr",
     "output_type": "stream",
     "text": [
      "\n",
      "Feature Extraction: 100%|██████████| 1/1 [03:11<00:00, 191.25s/it]"
     ]
    },
    {
     "name": "stdout",
     "output_type": "stream",
     "text": [
      "5.0\n"
     ]
    },
    {
     "name": "stderr",
     "output_type": "stream",
     "text": [
      "\n",
      "Feature Extraction: 100%|██████████| 1/1 [02:23<00:00, 143.68s/it]"
     ]
    },
    {
     "name": "stdout",
     "output_type": "stream",
     "text": [
      "6.0\n"
     ]
    },
    {
     "name": "stderr",
     "output_type": "stream",
     "text": [
      "\n",
      "Feature Extraction: 100%|██████████| 1/1 [02:25<00:00, 145.69s/it]\n"
     ]
    },
    {
     "name": "stdout",
     "output_type": "stream",
     "text": [
      "Cov7\n",
      "0.0\n"
     ]
    },
    {
     "name": "stderr",
     "output_type": "stream",
     "text": [
      "Feature Extraction: 100%|██████████| 1/1 [07:50<00:00, 470.47s/it]\n"
     ]
    },
    {
     "name": "stdout",
     "output_type": "stream",
     "text": [
      "1.0\n"
     ]
    },
    {
     "name": "stderr",
     "output_type": "stream",
     "text": [
      "Feature Extraction: 100%|██████████| 1/1 [05:17<00:00, 317.91s/it]\n"
     ]
    },
    {
     "name": "stdout",
     "output_type": "stream",
     "text": [
      "2.0\n"
     ]
    },
    {
     "name": "stderr",
     "output_type": "stream",
     "text": [
      "Feature Extraction: 100%|██████████| 1/1 [04:54<00:00, 294.89s/it]\n"
     ]
    },
    {
     "name": "stdout",
     "output_type": "stream",
     "text": [
      "3.0\n"
     ]
    },
    {
     "name": "stderr",
     "output_type": "stream",
     "text": [
      "Feature Extraction: 100%|██████████| 1/1 [04:18<00:00, 258.89s/it]"
     ]
    },
    {
     "name": "stdout",
     "output_type": "stream",
     "text": [
      "4.0\n"
     ]
    },
    {
     "name": "stderr",
     "output_type": "stream",
     "text": [
      "\n",
      "Feature Extraction: 100%|██████████| 1/1 [04:09<00:00, 249.86s/it]"
     ]
    },
    {
     "name": "stdout",
     "output_type": "stream",
     "text": [
      "5.0\n"
     ]
    },
    {
     "name": "stderr",
     "output_type": "stream",
     "text": [
      "\n",
      "Feature Extraction: 100%|██████████| 1/1 [03:50<00:00, 230.36s/it]\n"
     ]
    },
    {
     "name": "stdout",
     "output_type": "stream",
     "text": [
      "6.0\n"
     ]
    },
    {
     "name": "stderr",
     "output_type": "stream",
     "text": [
      "Feature Extraction: 100%|██████████| 1/1 [03:03<00:00, 183.33s/it]\n"
     ]
    },
    {
     "name": "stdout",
     "output_type": "stream",
     "text": [
      "Cov20\n",
      "0.0\n"
     ]
    },
    {
     "name": "stderr",
     "output_type": "stream",
     "text": [
      "Feature Extraction: 100%|██████████| 1/1 [16:27<00:00, 987.28s/it]"
     ]
    },
    {
     "name": "stdout",
     "output_type": "stream",
     "text": [
      "1.0\n"
     ]
    },
    {
     "name": "stderr",
     "output_type": "stream",
     "text": [
      "\n",
      "Feature Extraction: 100%|██████████| 1/1 [05:19<00:00, 319.28s/it]"
     ]
    },
    {
     "name": "stdout",
     "output_type": "stream",
     "text": [
      "2.0\n"
     ]
    },
    {
     "name": "stderr",
     "output_type": "stream",
     "text": [
      "\n",
      "Feature Extraction: 100%|██████████| 1/1 [04:17<00:00, 257.72s/it]\n"
     ]
    },
    {
     "name": "stdout",
     "output_type": "stream",
     "text": [
      "3.0\n"
     ]
    },
    {
     "name": "stderr",
     "output_type": "stream",
     "text": [
      "Feature Extraction: 100%|██████████| 1/1 [04:33<00:00, 273.31s/it]\n"
     ]
    },
    {
     "name": "stdout",
     "output_type": "stream",
     "text": [
      "4.0\n"
     ]
    },
    {
     "name": "stderr",
     "output_type": "stream",
     "text": [
      "Feature Extraction: 100%|██████████| 1/1 [03:59<00:00, 239.50s/it]\n"
     ]
    },
    {
     "name": "stdout",
     "output_type": "stream",
     "text": [
      "5.0\n"
     ]
    },
    {
     "name": "stderr",
     "output_type": "stream",
     "text": [
      "Feature Extraction: 100%|██████████| 1/1 [03:25<00:00, 205.10s/it]\n"
     ]
    },
    {
     "name": "stdout",
     "output_type": "stream",
     "text": [
      "6.0\n"
     ]
    },
    {
     "name": "stderr",
     "output_type": "stream",
     "text": [
      "Feature Extraction: 100%|██████████| 1/1 [03:41<00:00, 221.73s/it]\n"
     ]
    },
    {
     "name": "stdout",
     "output_type": "stream",
     "text": [
      "Cov14\n",
      "0.0\n"
     ]
    },
    {
     "name": "stderr",
     "output_type": "stream",
     "text": [
      "Feature Extraction: 100%|██████████| 1/1 [05:21<00:00, 321.90s/it]"
     ]
    },
    {
     "name": "stdout",
     "output_type": "stream",
     "text": [
      "1.0\n"
     ]
    },
    {
     "name": "stderr",
     "output_type": "stream",
     "text": [
      "\n",
      "Feature Extraction: 100%|██████████| 1/1 [04:37<00:00, 277.16s/it]\n"
     ]
    },
    {
     "name": "stdout",
     "output_type": "stream",
     "text": [
      "2.0\n"
     ]
    },
    {
     "name": "stderr",
     "output_type": "stream",
     "text": [
      "Feature Extraction: 100%|██████████| 1/1 [04:41<00:00, 281.79s/it]\n"
     ]
    },
    {
     "name": "stdout",
     "output_type": "stream",
     "text": [
      "3.0\n"
     ]
    },
    {
     "name": "stderr",
     "output_type": "stream",
     "text": [
      "Feature Extraction: 100%|██████████| 1/1 [04:07<00:00, 247.59s/it]\n"
     ]
    },
    {
     "name": "stdout",
     "output_type": "stream",
     "text": [
      "4.0\n"
     ]
    },
    {
     "name": "stderr",
     "output_type": "stream",
     "text": [
      "Feature Extraction: 100%|██████████| 1/1 [04:17<00:00, 257.74s/it]\n"
     ]
    },
    {
     "name": "stdout",
     "output_type": "stream",
     "text": [
      "5.0\n"
     ]
    },
    {
     "name": "stderr",
     "output_type": "stream",
     "text": [
      "Feature Extraction: 100%|██████████| 1/1 [03:10<00:00, 190.89s/it]"
     ]
    },
    {
     "name": "stdout",
     "output_type": "stream",
     "text": [
      "6.0\n"
     ]
    },
    {
     "name": "stderr",
     "output_type": "stream",
     "text": [
      "\n",
      "Feature Extraction: 100%|██████████| 1/1 [03:38<00:00, 218.25s/it]\n"
     ]
    },
    {
     "name": "stdout",
     "output_type": "stream",
     "text": [
      "Cov4\n",
      "0.0\n"
     ]
    },
    {
     "name": "stderr",
     "output_type": "stream",
     "text": [
      "Feature Extraction: 100%|██████████| 1/1 [05:56<00:00, 356.58s/it]\n"
     ]
    },
    {
     "name": "stdout",
     "output_type": "stream",
     "text": [
      "1.0\n"
     ]
    },
    {
     "name": "stderr",
     "output_type": "stream",
     "text": [
      "Feature Extraction: 100%|██████████| 1/1 [04:41<00:00, 281.77s/it]\n"
     ]
    },
    {
     "name": "stdout",
     "output_type": "stream",
     "text": [
      "2.0\n"
     ]
    },
    {
     "name": "stderr",
     "output_type": "stream",
     "text": [
      "Feature Extraction: 100%|██████████| 1/1 [04:25<00:00, 265.12s/it]\n"
     ]
    },
    {
     "name": "stdout",
     "output_type": "stream",
     "text": [
      "3.0\n"
     ]
    },
    {
     "name": "stderr",
     "output_type": "stream",
     "text": [
      "Feature Extraction: 100%|██████████| 1/1 [04:27<00:00, 267.77s/it]\n"
     ]
    },
    {
     "name": "stdout",
     "output_type": "stream",
     "text": [
      "4.0\n"
     ]
    },
    {
     "name": "stderr",
     "output_type": "stream",
     "text": [
      "Feature Extraction: 100%|██████████| 1/1 [04:39<00:00, 279.71s/it]\n"
     ]
    },
    {
     "name": "stdout",
     "output_type": "stream",
     "text": [
      "5.0\n"
     ]
    },
    {
     "name": "stderr",
     "output_type": "stream",
     "text": [
      "Feature Extraction: 100%|██████████| 1/1 [03:16<00:00, 196.05s/it]\n"
     ]
    },
    {
     "name": "stdout",
     "output_type": "stream",
     "text": [
      "6.0\n"
     ]
    },
    {
     "name": "stderr",
     "output_type": "stream",
     "text": [
      "Feature Extraction: 100%|██████████| 1/1 [03:13<00:00, 193.62s/it]\n"
     ]
    },
    {
     "name": "stdout",
     "output_type": "stream",
     "text": [
      "Cov8\n",
      "0.0\n"
     ]
    },
    {
     "name": "stderr",
     "output_type": "stream",
     "text": [
      "Feature Extraction: 100%|██████████| 1/1 [05:50<00:00, 350.95s/it]\n"
     ]
    },
    {
     "name": "stdout",
     "output_type": "stream",
     "text": [
      "1.0\n"
     ]
    },
    {
     "name": "stderr",
     "output_type": "stream",
     "text": [
      "Feature Extraction: 100%|██████████| 1/1 [04:43<00:00, 283.95s/it]\n"
     ]
    },
    {
     "name": "stdout",
     "output_type": "stream",
     "text": [
      "2.0\n"
     ]
    },
    {
     "name": "stderr",
     "output_type": "stream",
     "text": [
      "Feature Extraction: 100%|██████████| 1/1 [04:06<00:00, 246.20s/it]\n"
     ]
    },
    {
     "name": "stdout",
     "output_type": "stream",
     "text": [
      "3.0\n"
     ]
    },
    {
     "name": "stderr",
     "output_type": "stream",
     "text": [
      "Feature Extraction: 100%|██████████| 1/1 [04:20<00:00, 260.49s/it]\n"
     ]
    },
    {
     "name": "stdout",
     "output_type": "stream",
     "text": [
      "4.0\n"
     ]
    },
    {
     "name": "stderr",
     "output_type": "stream",
     "text": [
      "Feature Extraction: 100%|██████████| 1/1 [04:02<00:00, 242.87s/it]"
     ]
    },
    {
     "name": "stdout",
     "output_type": "stream",
     "text": [
      "5.0\n"
     ]
    },
    {
     "name": "stderr",
     "output_type": "stream",
     "text": [
      "\n",
      "Feature Extraction: 100%|██████████| 1/1 [03:10<00:00, 190.16s/it]\n"
     ]
    },
    {
     "name": "stdout",
     "output_type": "stream",
     "text": [
      "6.0\n"
     ]
    },
    {
     "name": "stderr",
     "output_type": "stream",
     "text": [
      "Feature Extraction: 100%|██████████| 1/1 [03:04<00:00, 184.29s/it]\n"
     ]
    }
   ],
   "source": [
    "directory = 'Clean'\n",
    "result = pd.DataFrame()\n",
    "# iterate over files in that directory\n",
    "for filename in os.listdir(directory):\n",
    "    f_path = os.path.join(directory, filename)\n",
    "    # checking if it is a file\n",
    "    candidate = filename.split('_')[0]\n",
    "    print(candidate)\n",
    "    if os.path.isfile(f_path):\n",
    "        cov_bvp = pd.read_csv(f_path, header=0)\n",
    "        blocks = cov_bvp['Block'].unique()\n",
    "        for block in blocks:\n",
    "            print(block)\n",
    "            bl = cov_bvp.loc[cov_bvp['Block'] == block]\n",
    "            fatigue = bl['Fatigue_Rating'].unique()\n",
    "            extracted_features = extract_features(bl.loc[:, ['Block', 'padasip']], column_id=\"Block\")\n",
    "            temp = extracted_features\n",
    "            temp['candidate'] = candidate\n",
    "            temp['block'] = block\n",
    "            temp['fatigue_rating'] = fatigue[0]\n",
    "            result = pd.concat([result, temp])\n",
    "\n",
    "result.to_excel(\"tsfresh.xlsx\")"
   ]
  },
  {
   "cell_type": "code",
   "execution_count": 9,
   "metadata": {},
   "outputs": [
    {
     "name": "stdout",
     "output_type": "stream",
     "text": [
      "Index(['padasip__variance_larger_than_standard_deviation',\n",
      "       'padasip__has_duplicate_max', 'padasip__has_duplicate_min',\n",
      "       'padasip__has_duplicate', 'padasip__sum_values', 'padasip__abs_energy',\n",
      "       'padasip__mean_abs_change', 'padasip__mean_change',\n",
      "       'padasip__mean_second_derivative_central', 'padasip__median',\n",
      "       ...\n",
      "       'padasip__fourier_entropy__bins_5', 'padasip__fourier_entropy__bins_10',\n",
      "       'padasip__fourier_entropy__bins_100',\n",
      "       'padasip__permutation_entropy__dimension_3__tau_1',\n",
      "       'padasip__permutation_entropy__dimension_4__tau_1',\n",
      "       'padasip__permutation_entropy__dimension_5__tau_1',\n",
      "       'padasip__permutation_entropy__dimension_6__tau_1',\n",
      "       'padasip__permutation_entropy__dimension_7__tau_1',\n",
      "       'padasip__query_similarity_count__query_None__threshold_0.0',\n",
      "       'padasip__mean_n_absolute_max__number_of_maxima_7'],\n",
      "      dtype='object', length=783)\n",
      "1\n"
     ]
    }
   ],
   "source": [
    "print(extracted_features.columns)\n",
    "print(len(extracted_features))"
   ]
  },
  {
   "cell_type": "code",
   "execution_count": null,
   "metadata": {},
   "outputs": [],
   "source": []
  }
 ],
 "metadata": {
  "kernelspec": {
   "display_name": "Python 3 (ipykernel)",
   "language": "python",
   "name": "python3"
  },
  "language_info": {
   "codemirror_mode": {
    "name": "ipython",
    "version": 3
   },
   "file_extension": ".py",
   "mimetype": "text/x-python",
   "name": "python",
   "nbconvert_exporter": "python",
   "pygments_lexer": "ipython3",
   "version": "3.12.2"
  }
 },
 "nbformat": 4,
 "nbformat_minor": 4
}

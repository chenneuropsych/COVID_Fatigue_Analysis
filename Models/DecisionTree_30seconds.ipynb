{
 "cells": [
  {
   "cell_type": "markdown",
   "metadata": {
    "id": "q9-5zWjg6orp"
   },
   "source": [
    "###Fetching Dataset and Basic Preprocessing"
   ]
  },
  {
   "cell_type": "code",
   "execution_count": 1,
   "metadata": {
    "colab": {
     "base_uri": "https://localhost:8080/"
    },
    "executionInfo": {
     "elapsed": 16712,
     "status": "ok",
     "timestamp": 1713803107352,
     "user": {
      "displayName": "Darshee Machhar",
      "userId": "10629581052995023893"
     },
     "user_tz": 240
    },
    "id": "18tb1kZ-HC64",
    "outputId": "e7c2e04e-f8ce-4863-b42e-74397c36d98c"
   },
   "outputs": [
    {
     "name": "stdout",
     "output_type": "stream",
     "text": [
      "Mounted at /content/drive/\n",
      "/content/drive/MyDrive/Colab Notebooks/OnCampus/LongCovid/regression/Data\n"
     ]
    }
   ],
   "source": [
    "from google.colab import drive\n",
    "drive.mount('/content/drive/')\n",
    "%cd \"/content/drive/MyDrive/Colab Notebooks/OnCampus/LongCovid/regression/Data\""
   ]
  },
  {
   "cell_type": "code",
   "execution_count": 25,
   "metadata": {
    "executionInfo": {
     "elapsed": 5,
     "status": "ok",
     "timestamp": 1713803175455,
     "user": {
      "displayName": "Darshee Machhar",
      "userId": "10629581052995023893"
     },
     "user_tz": 240
    },
    "id": "vC8U6W84K9x-"
   },
   "outputs": [],
   "source": [
    "# Import necessary libraries\n",
    "from sklearn.model_selection import train_test_split\n",
    "from sklearn.tree import DecisionTreeRegressor\n",
    "from sklearn.metrics import accuracy_score, mean_squared_error, f1_score\n",
    "from sklearn.preprocessing import label_binarize\n",
    "import numpy as np\n",
    "import pandas as pd"
   ]
  },
  {
   "cell_type": "code",
   "execution_count": 3,
   "metadata": {
    "colab": {
     "base_uri": "https://localhost:8080/",
     "height": 255
    },
    "executionInfo": {
     "elapsed": 2324,
     "status": "ok",
     "timestamp": 1713803111488,
     "user": {
      "displayName": "Darshee Machhar",
      "userId": "10629581052995023893"
     },
     "user_tz": 240
    },
    "id": "lbGqgO3nIdgx",
    "outputId": "9961619f-3b96-4f5b-a863-868c8e6f2b78"
   },
   "outputs": [
    {
     "data": {
      "application/vnd.google.colaboratory.intrinsic+json": {
       "type": "dataframe",
       "variable_name": "og_data"
      },
      "text/html": [
       "\n",
       "  <div id=\"df-47f2e7ee-5b67-40fb-bd1d-0987ea8e08ed\" class=\"colab-df-container\">\n",
       "    <div>\n",
       "<style scoped>\n",
       "    .dataframe tbody tr th:only-of-type {\n",
       "        vertical-align: middle;\n",
       "    }\n",
       "\n",
       "    .dataframe tbody tr th {\n",
       "        vertical-align: top;\n",
       "    }\n",
       "\n",
       "    .dataframe thead th {\n",
       "        text-align: right;\n",
       "    }\n",
       "</style>\n",
       "<table border=\"1\" class=\"dataframe\">\n",
       "  <thead>\n",
       "    <tr style=\"text-align: right;\">\n",
       "      <th></th>\n",
       "      <th>Block</th>\n",
       "      <th>fatigue_rating</th>\n",
       "      <th>window_num_30</th>\n",
       "      <th>SubjID</th>\n",
       "      <th>Age</th>\n",
       "      <th>HRV_MeanNN</th>\n",
       "      <th>HRV_SDNN</th>\n",
       "      <th>HRV_SDANN1</th>\n",
       "      <th>HRV_SDNNI1</th>\n",
       "      <th>HRV_SDANN2</th>\n",
       "      <th>...</th>\n",
       "      <th>Delta_HRV_SampEn</th>\n",
       "      <th>Delta_HRV_ShanEn</th>\n",
       "      <th>Delta_HRV_FuzzyEn</th>\n",
       "      <th>Delta_HRV_MSEn</th>\n",
       "      <th>Delta_HRV_CMSEn</th>\n",
       "      <th>Delta_HRV_RCMSEn</th>\n",
       "      <th>Delta_HRV_CD</th>\n",
       "      <th>Delta_HRV_HFD</th>\n",
       "      <th>Delta_HRV_KFD</th>\n",
       "      <th>Delta_HRV_LZC</th>\n",
       "    </tr>\n",
       "  </thead>\n",
       "  <tbody>\n",
       "    <tr>\n",
       "      <th>0</th>\n",
       "      <td>0</td>\n",
       "      <td>73</td>\n",
       "      <td>0</td>\n",
       "      <td>Cov4</td>\n",
       "      <td>38</td>\n",
       "      <td>696.800595</td>\n",
       "      <td>117.336517</td>\n",
       "      <td>NaN</td>\n",
       "      <td>NaN</td>\n",
       "      <td>NaN</td>\n",
       "      <td>...</td>\n",
       "      <td>1.632571</td>\n",
       "      <td>2.422132</td>\n",
       "      <td>-2.720973</td>\n",
       "      <td>-0.847401</td>\n",
       "      <td>-0.139904</td>\n",
       "      <td>0.274653</td>\n",
       "      <td>0.912377</td>\n",
       "      <td>0.164625</td>\n",
       "      <td>2.613554</td>\n",
       "      <td>-3.341088</td>\n",
       "    </tr>\n",
       "    <tr>\n",
       "      <th>1</th>\n",
       "      <td>0</td>\n",
       "      <td>73</td>\n",
       "      <td>1</td>\n",
       "      <td>Cov4</td>\n",
       "      <td>38</td>\n",
       "      <td>725.609756</td>\n",
       "      <td>126.362148</td>\n",
       "      <td>NaN</td>\n",
       "      <td>NaN</td>\n",
       "      <td>NaN</td>\n",
       "      <td>...</td>\n",
       "      <td>1.632571</td>\n",
       "      <td>2.422132</td>\n",
       "      <td>-2.720973</td>\n",
       "      <td>-0.847401</td>\n",
       "      <td>-0.139904</td>\n",
       "      <td>0.274653</td>\n",
       "      <td>0.912377</td>\n",
       "      <td>0.164625</td>\n",
       "      <td>2.613554</td>\n",
       "      <td>-3.341088</td>\n",
       "    </tr>\n",
       "    <tr>\n",
       "      <th>2</th>\n",
       "      <td>0</td>\n",
       "      <td>73</td>\n",
       "      <td>2</td>\n",
       "      <td>Cov4</td>\n",
       "      <td>38</td>\n",
       "      <td>801.649306</td>\n",
       "      <td>111.729719</td>\n",
       "      <td>NaN</td>\n",
       "      <td>NaN</td>\n",
       "      <td>NaN</td>\n",
       "      <td>...</td>\n",
       "      <td>1.632571</td>\n",
       "      <td>2.422132</td>\n",
       "      <td>-2.720973</td>\n",
       "      <td>-0.847401</td>\n",
       "      <td>-0.139904</td>\n",
       "      <td>0.274653</td>\n",
       "      <td>0.912377</td>\n",
       "      <td>0.164625</td>\n",
       "      <td>2.613554</td>\n",
       "      <td>-3.341088</td>\n",
       "    </tr>\n",
       "    <tr>\n",
       "      <th>3</th>\n",
       "      <td>0</td>\n",
       "      <td>73</td>\n",
       "      <td>3</td>\n",
       "      <td>Cov4</td>\n",
       "      <td>38</td>\n",
       "      <td>764.802632</td>\n",
       "      <td>66.683010</td>\n",
       "      <td>NaN</td>\n",
       "      <td>NaN</td>\n",
       "      <td>NaN</td>\n",
       "      <td>...</td>\n",
       "      <td>1.632571</td>\n",
       "      <td>2.422132</td>\n",
       "      <td>-2.720973</td>\n",
       "      <td>-0.847401</td>\n",
       "      <td>-0.139904</td>\n",
       "      <td>0.274653</td>\n",
       "      <td>0.912377</td>\n",
       "      <td>0.164625</td>\n",
       "      <td>2.613554</td>\n",
       "      <td>-3.341088</td>\n",
       "    </tr>\n",
       "    <tr>\n",
       "      <th>4</th>\n",
       "      <td>0</td>\n",
       "      <td>73</td>\n",
       "      <td>4</td>\n",
       "      <td>Cov4</td>\n",
       "      <td>38</td>\n",
       "      <td>711.509146</td>\n",
       "      <td>106.725588</td>\n",
       "      <td>NaN</td>\n",
       "      <td>NaN</td>\n",
       "      <td>NaN</td>\n",
       "      <td>...</td>\n",
       "      <td>1.632571</td>\n",
       "      <td>2.422132</td>\n",
       "      <td>-2.720973</td>\n",
       "      <td>-0.847401</td>\n",
       "      <td>-0.139904</td>\n",
       "      <td>0.274653</td>\n",
       "      <td>0.912377</td>\n",
       "      <td>0.164625</td>\n",
       "      <td>2.613554</td>\n",
       "      <td>-3.341088</td>\n",
       "    </tr>\n",
       "  </tbody>\n",
       "</table>\n",
       "<p>5 rows × 172 columns</p>\n",
       "</div>\n",
       "    <div class=\"colab-df-buttons\">\n",
       "\n",
       "  <div class=\"colab-df-container\">\n",
       "    <button class=\"colab-df-convert\" onclick=\"convertToInteractive('df-47f2e7ee-5b67-40fb-bd1d-0987ea8e08ed')\"\n",
       "            title=\"Convert this dataframe to an interactive table.\"\n",
       "            style=\"display:none;\">\n",
       "\n",
       "  <svg xmlns=\"http://www.w3.org/2000/svg\" height=\"24px\" viewBox=\"0 -960 960 960\">\n",
       "    <path d=\"M120-120v-720h720v720H120Zm60-500h600v-160H180v160Zm220 220h160v-160H400v160Zm0 220h160v-160H400v160ZM180-400h160v-160H180v160Zm440 0h160v-160H620v160ZM180-180h160v-160H180v160Zm440 0h160v-160H620v160Z\"/>\n",
       "  </svg>\n",
       "    </button>\n",
       "\n",
       "  <style>\n",
       "    .colab-df-container {\n",
       "      display:flex;\n",
       "      gap: 12px;\n",
       "    }\n",
       "\n",
       "    .colab-df-convert {\n",
       "      background-color: #E8F0FE;\n",
       "      border: none;\n",
       "      border-radius: 50%;\n",
       "      cursor: pointer;\n",
       "      display: none;\n",
       "      fill: #1967D2;\n",
       "      height: 32px;\n",
       "      padding: 0 0 0 0;\n",
       "      width: 32px;\n",
       "    }\n",
       "\n",
       "    .colab-df-convert:hover {\n",
       "      background-color: #E2EBFA;\n",
       "      box-shadow: 0px 1px 2px rgba(60, 64, 67, 0.3), 0px 1px 3px 1px rgba(60, 64, 67, 0.15);\n",
       "      fill: #174EA6;\n",
       "    }\n",
       "\n",
       "    .colab-df-buttons div {\n",
       "      margin-bottom: 4px;\n",
       "    }\n",
       "\n",
       "    [theme=dark] .colab-df-convert {\n",
       "      background-color: #3B4455;\n",
       "      fill: #D2E3FC;\n",
       "    }\n",
       "\n",
       "    [theme=dark] .colab-df-convert:hover {\n",
       "      background-color: #434B5C;\n",
       "      box-shadow: 0px 1px 3px 1px rgba(0, 0, 0, 0.15);\n",
       "      filter: drop-shadow(0px 1px 2px rgba(0, 0, 0, 0.3));\n",
       "      fill: #FFFFFF;\n",
       "    }\n",
       "  </style>\n",
       "\n",
       "    <script>\n",
       "      const buttonEl =\n",
       "        document.querySelector('#df-47f2e7ee-5b67-40fb-bd1d-0987ea8e08ed button.colab-df-convert');\n",
       "      buttonEl.style.display =\n",
       "        google.colab.kernel.accessAllowed ? 'block' : 'none';\n",
       "\n",
       "      async function convertToInteractive(key) {\n",
       "        const element = document.querySelector('#df-47f2e7ee-5b67-40fb-bd1d-0987ea8e08ed');\n",
       "        const dataTable =\n",
       "          await google.colab.kernel.invokeFunction('convertToInteractive',\n",
       "                                                    [key], {});\n",
       "        if (!dataTable) return;\n",
       "\n",
       "        const docLinkHtml = 'Like what you see? Visit the ' +\n",
       "          '<a target=\"_blank\" href=https://colab.research.google.com/notebooks/data_table.ipynb>data table notebook</a>'\n",
       "          + ' to learn more about interactive tables.';\n",
       "        element.innerHTML = '';\n",
       "        dataTable['output_type'] = 'display_data';\n",
       "        await google.colab.output.renderOutput(dataTable, element);\n",
       "        const docLink = document.createElement('div');\n",
       "        docLink.innerHTML = docLinkHtml;\n",
       "        element.appendChild(docLink);\n",
       "      }\n",
       "    </script>\n",
       "  </div>\n",
       "\n",
       "\n",
       "<div id=\"df-9c055aad-5cfa-464d-a0d6-37c2e3001aa1\">\n",
       "  <button class=\"colab-df-quickchart\" onclick=\"quickchart('df-9c055aad-5cfa-464d-a0d6-37c2e3001aa1')\"\n",
       "            title=\"Suggest charts\"\n",
       "            style=\"display:none;\">\n",
       "\n",
       "<svg xmlns=\"http://www.w3.org/2000/svg\" height=\"24px\"viewBox=\"0 0 24 24\"\n",
       "     width=\"24px\">\n",
       "    <g>\n",
       "        <path d=\"M19 3H5c-1.1 0-2 .9-2 2v14c0 1.1.9 2 2 2h14c1.1 0 2-.9 2-2V5c0-1.1-.9-2-2-2zM9 17H7v-7h2v7zm4 0h-2V7h2v10zm4 0h-2v-4h2v4z\"/>\n",
       "    </g>\n",
       "</svg>\n",
       "  </button>\n",
       "\n",
       "<style>\n",
       "  .colab-df-quickchart {\n",
       "      --bg-color: #E8F0FE;\n",
       "      --fill-color: #1967D2;\n",
       "      --hover-bg-color: #E2EBFA;\n",
       "      --hover-fill-color: #174EA6;\n",
       "      --disabled-fill-color: #AAA;\n",
       "      --disabled-bg-color: #DDD;\n",
       "  }\n",
       "\n",
       "  [theme=dark] .colab-df-quickchart {\n",
       "      --bg-color: #3B4455;\n",
       "      --fill-color: #D2E3FC;\n",
       "      --hover-bg-color: #434B5C;\n",
       "      --hover-fill-color: #FFFFFF;\n",
       "      --disabled-bg-color: #3B4455;\n",
       "      --disabled-fill-color: #666;\n",
       "  }\n",
       "\n",
       "  .colab-df-quickchart {\n",
       "    background-color: var(--bg-color);\n",
       "    border: none;\n",
       "    border-radius: 50%;\n",
       "    cursor: pointer;\n",
       "    display: none;\n",
       "    fill: var(--fill-color);\n",
       "    height: 32px;\n",
       "    padding: 0;\n",
       "    width: 32px;\n",
       "  }\n",
       "\n",
       "  .colab-df-quickchart:hover {\n",
       "    background-color: var(--hover-bg-color);\n",
       "    box-shadow: 0 1px 2px rgba(60, 64, 67, 0.3), 0 1px 3px 1px rgba(60, 64, 67, 0.15);\n",
       "    fill: var(--button-hover-fill-color);\n",
       "  }\n",
       "\n",
       "  .colab-df-quickchart-complete:disabled,\n",
       "  .colab-df-quickchart-complete:disabled:hover {\n",
       "    background-color: var(--disabled-bg-color);\n",
       "    fill: var(--disabled-fill-color);\n",
       "    box-shadow: none;\n",
       "  }\n",
       "\n",
       "  .colab-df-spinner {\n",
       "    border: 2px solid var(--fill-color);\n",
       "    border-color: transparent;\n",
       "    border-bottom-color: var(--fill-color);\n",
       "    animation:\n",
       "      spin 1s steps(1) infinite;\n",
       "  }\n",
       "\n",
       "  @keyframes spin {\n",
       "    0% {\n",
       "      border-color: transparent;\n",
       "      border-bottom-color: var(--fill-color);\n",
       "      border-left-color: var(--fill-color);\n",
       "    }\n",
       "    20% {\n",
       "      border-color: transparent;\n",
       "      border-left-color: var(--fill-color);\n",
       "      border-top-color: var(--fill-color);\n",
       "    }\n",
       "    30% {\n",
       "      border-color: transparent;\n",
       "      border-left-color: var(--fill-color);\n",
       "      border-top-color: var(--fill-color);\n",
       "      border-right-color: var(--fill-color);\n",
       "    }\n",
       "    40% {\n",
       "      border-color: transparent;\n",
       "      border-right-color: var(--fill-color);\n",
       "      border-top-color: var(--fill-color);\n",
       "    }\n",
       "    60% {\n",
       "      border-color: transparent;\n",
       "      border-right-color: var(--fill-color);\n",
       "    }\n",
       "    80% {\n",
       "      border-color: transparent;\n",
       "      border-right-color: var(--fill-color);\n",
       "      border-bottom-color: var(--fill-color);\n",
       "    }\n",
       "    90% {\n",
       "      border-color: transparent;\n",
       "      border-bottom-color: var(--fill-color);\n",
       "    }\n",
       "  }\n",
       "</style>\n",
       "\n",
       "  <script>\n",
       "    async function quickchart(key) {\n",
       "      const quickchartButtonEl =\n",
       "        document.querySelector('#' + key + ' button');\n",
       "      quickchartButtonEl.disabled = true;  // To prevent multiple clicks.\n",
       "      quickchartButtonEl.classList.add('colab-df-spinner');\n",
       "      try {\n",
       "        const charts = await google.colab.kernel.invokeFunction(\n",
       "            'suggestCharts', [key], {});\n",
       "      } catch (error) {\n",
       "        console.error('Error during call to suggestCharts:', error);\n",
       "      }\n",
       "      quickchartButtonEl.classList.remove('colab-df-spinner');\n",
       "      quickchartButtonEl.classList.add('colab-df-quickchart-complete');\n",
       "    }\n",
       "    (() => {\n",
       "      let quickchartButtonEl =\n",
       "        document.querySelector('#df-9c055aad-5cfa-464d-a0d6-37c2e3001aa1 button');\n",
       "      quickchartButtonEl.style.display =\n",
       "        google.colab.kernel.accessAllowed ? 'block' : 'none';\n",
       "    })();\n",
       "  </script>\n",
       "</div>\n",
       "    </div>\n",
       "  </div>\n"
      ],
      "text/plain": [
       "   Block  fatigue_rating  window_num_30 SubjID  Age  HRV_MeanNN    HRV_SDNN  \\\n",
       "0      0              73              0   Cov4   38  696.800595  117.336517   \n",
       "1      0              73              1   Cov4   38  725.609756  126.362148   \n",
       "2      0              73              2   Cov4   38  801.649306  111.729719   \n",
       "3      0              73              3   Cov4   38  764.802632   66.683010   \n",
       "4      0              73              4   Cov4   38  711.509146  106.725588   \n",
       "\n",
       "   HRV_SDANN1  HRV_SDNNI1  HRV_SDANN2  ...  Delta_HRV_SampEn  \\\n",
       "0         NaN         NaN         NaN  ...          1.632571   \n",
       "1         NaN         NaN         NaN  ...          1.632571   \n",
       "2         NaN         NaN         NaN  ...          1.632571   \n",
       "3         NaN         NaN         NaN  ...          1.632571   \n",
       "4         NaN         NaN         NaN  ...          1.632571   \n",
       "\n",
       "   Delta_HRV_ShanEn  Delta_HRV_FuzzyEn  Delta_HRV_MSEn  Delta_HRV_CMSEn  \\\n",
       "0          2.422132          -2.720973       -0.847401        -0.139904   \n",
       "1          2.422132          -2.720973       -0.847401        -0.139904   \n",
       "2          2.422132          -2.720973       -0.847401        -0.139904   \n",
       "3          2.422132          -2.720973       -0.847401        -0.139904   \n",
       "4          2.422132          -2.720973       -0.847401        -0.139904   \n",
       "\n",
       "   Delta_HRV_RCMSEn  Delta_HRV_CD  Delta_HRV_HFD  Delta_HRV_KFD  Delta_HRV_LZC  \n",
       "0          0.274653      0.912377       0.164625       2.613554      -3.341088  \n",
       "1          0.274653      0.912377       0.164625       2.613554      -3.341088  \n",
       "2          0.274653      0.912377       0.164625       2.613554      -3.341088  \n",
       "3          0.274653      0.912377       0.164625       2.613554      -3.341088  \n",
       "4          0.274653      0.912377       0.164625       2.613554      -3.341088  \n",
       "\n",
       "[5 rows x 172 columns]"
      ]
     },
     "execution_count": 3,
     "metadata": {},
     "output_type": "execute_result"
    }
   ],
   "source": [
    "f_path = \"HRV_features_30seconds_HRVDelta.xlsx\"\n",
    "og_data = pd.read_excel(f_path, header=0)\n",
    "og_data.head()"
   ]
  },
  {
   "cell_type": "code",
   "execution_count": 4,
   "metadata": {
    "executionInfo": {
     "elapsed": 5,
     "status": "ok",
     "timestamp": 1713803111488,
     "user": {
      "displayName": "Darshee Machhar",
      "userId": "10629581052995023893"
     },
     "user_tz": 240
    },
    "id": "4zxKPwU9odQz"
   },
   "outputs": [],
   "source": [
    "og_data['SubjID'] = og_data['SubjID'].str.replace('Cov', '')\n",
    "og_data['SubjID'] = og_data['SubjID'].astype(int)"
   ]
  },
  {
   "cell_type": "code",
   "execution_count": 5,
   "metadata": {
    "executionInfo": {
     "elapsed": 4,
     "status": "ok",
     "timestamp": 1713803111488,
     "user": {
      "displayName": "Darshee Machhar",
      "userId": "10629581052995023893"
     },
     "user_tz": 240
    },
    "id": "T_FvItEEg2UO"
   },
   "outputs": [],
   "source": [
    "og_data = og_data.dropna(axis=1, how='all')\n",
    "og_data = og_data[~og_data.isin([np.nan, np.inf, -np.inf]).any(axis=1)]"
   ]
  },
  {
   "cell_type": "code",
   "execution_count": 6,
   "metadata": {
    "executionInfo": {
     "elapsed": 4,
     "status": "ok",
     "timestamp": 1713803111488,
     "user": {
      "displayName": "Darshee Machhar",
      "userId": "10629581052995023893"
     },
     "user_tz": 240
    },
    "id": "MBCZckUAz1AR"
   },
   "outputs": [],
   "source": [
    "og_data['Window_ID'] = og_data['SubjID'].map(str) + '_' + og_data['Block'].map(str) + '_' + og_data['window_num_30'].map(str)\n",
    "og_data['Block_ID'] = og_data['SubjID'].map(str) + '_' + og_data['Block'].map(str)"
   ]
  },
  {
   "cell_type": "code",
   "execution_count": 7,
   "metadata": {
    "executionInfo": {
     "elapsed": 4,
     "status": "ok",
     "timestamp": 1713803111488,
     "user": {
      "displayName": "Darshee Machhar",
      "userId": "10629581052995023893"
     },
     "user_tz": 240
    },
    "id": "l478-9ZRod08"
   },
   "outputs": [],
   "source": [
    "block_zero = og_data['Block'] == 0\n",
    "data = og_data[~block_zero]"
   ]
  },
  {
   "cell_type": "markdown",
   "metadata": {
    "id": "ovz8TaB_v15W"
   },
   "source": [
    "###Decision Tree after Dropping SubjID"
   ]
  },
  {
   "cell_type": "code",
   "execution_count": 34,
   "metadata": {
    "executionInfo": {
     "elapsed": 153,
     "status": "ok",
     "timestamp": 1713804782774,
     "user": {
      "displayName": "Darshee Machhar",
      "userId": "10629581052995023893"
     },
     "user_tz": 240
    },
    "id": "zbioPu3CvSJc"
   },
   "outputs": [],
   "source": [
    "y = data['Change_from_Baseline']\n",
    "X = data.drop(['fatigue_rating', 'Change_from_Baseline','Delta_fatigue'], axis=1)\n",
    "X = X.drop('SubjID', axis=1)\n",
    "\n",
    "# Define the indexes of blocks in your data based on blockid\n",
    "blocks_indexes = [list(og_data[og_data['Block_ID'] == block_id].index) for block_id in og_data['Block_ID'].unique()]"
   ]
  },
  {
   "cell_type": "code",
   "execution_count": 26,
   "metadata": {
    "colab": {
     "base_uri": "https://localhost:8080/"
    },
    "executionInfo": {
     "elapsed": 367,
     "status": "ok",
     "timestamp": 1713803188209,
     "user": {
      "displayName": "Darshee Machhar",
      "userId": "10629581052995023893"
     },
     "user_tz": 240
    },
    "id": "-vCiRM2ov8bt",
    "outputId": "4d68dbd8-2755-4d3a-e6a6-d8855bf78b58"
   },
   "outputs": [
    {
     "name": "stdout",
     "output_type": "stream",
     "text": [
      "Accuracy: 1.0\n",
      "RMSE: 0.0\n",
      "F1 Score: 1.0\n"
     ]
    }
   ],
   "source": [
    "# Split the dataset into training and testing sets\n",
    "X_train, X_test, y_train, y_test = train_test_split(X, y, test_size=0.2, random_state=42)\n",
    "\n",
    "# Initialize the decision tree classifier\n",
    "clf = DecisionTreeRegressor(random_state=42)\n",
    "\n",
    "# Train the classifier on the training data\n",
    "clf.fit(X_train, y_train)\n",
    "\n",
    "# Make predictions on the testing data\n",
    "y_pred = clf.predict(X_test)\n",
    "\n",
    "# Calculate the accuracy of the classifier\n",
    "accuracy = accuracy_score(y_test, y_pred)\n",
    "print(\"Accuracy:\", accuracy)\n",
    "\n",
    "# Calculate the RMSE (Root Mean Squared Error)\n",
    "rmse = np.sqrt(mean_squared_error(y_test, y_pred))\n",
    "print(\"RMSE:\", rmse)\n",
    "\n",
    "# Calculate the F1 score\n",
    "f1 = f1_score(y_test, y_pred, average='weighted')\n",
    "print(\"F1 Score:\", f1)"
   ]
  },
  {
   "cell_type": "markdown",
   "metadata": {
    "id": "-_pq99XB7fx7"
   },
   "source": [
    "###Parameter tuning and validation"
   ]
  },
  {
   "cell_type": "code",
   "execution_count": 21,
   "metadata": {
    "colab": {
     "base_uri": "https://localhost:8080/"
    },
    "executionInfo": {
     "elapsed": 4230,
     "status": "ok",
     "timestamp": 1713803116106,
     "user": {
      "displayName": "Darshee Machhar",
      "userId": "10629581052995023893"
     },
     "user_tz": 240
    },
    "id": "OMi-F8kMwCgT",
    "outputId": "add47e30-28b8-42a2-8257-98d5e423904f"
   },
   "outputs": [
    {
     "name": "stderr",
     "output_type": "stream",
     "text": [
      "/usr/local/lib/python3.10/dist-packages/sklearn/model_selection/_split.py:700: UserWarning: The least populated class in y has only 4 members, which is less than n_splits=5.\n",
      "  warnings.warn(\n"
     ]
    },
    {
     "name": "stdout",
     "output_type": "stream",
     "text": [
      "Best Parameters: {'max_depth': None, 'min_samples_leaf': 1, 'min_samples_split': 2}\n",
      "Best Score: 0.9739541160593792\n",
      "Accuracy: 1.0\n",
      "RMSE: 0.0\n",
      "F1 Score: 1.0\n"
     ]
    }
   ],
   "source": [
    "from sklearn.model_selection import GridSearchCV\n",
    "\n",
    "# Define the parameter grid to search\n",
    "param_grid = {\n",
    "    'max_depth': [3, 5, 7, None],\n",
    "    'min_samples_split': [2, 5, 10],\n",
    "    'min_samples_leaf': [1, 2, 4]\n",
    "}\n",
    "\n",
    "# Initialize the decision tree classifier\n",
    "clf = DecisionTreeClassifier(random_state=42)\n",
    "\n",
    "# Initialize GridSearchCV\n",
    "grid_search = GridSearchCV(estimator=clf, param_grid=param_grid, cv=5)\n",
    "\n",
    "# Perform grid search\n",
    "grid_search.fit(X_train, y_train)\n",
    "\n",
    "# Get the best parameters and the best score\n",
    "best_params = grid_search.best_params_\n",
    "best_score = grid_search.best_score_\n",
    "\n",
    "print(\"Best Parameters:\", best_params)\n",
    "print(\"Best Score:\", best_score)\n",
    "\n",
    "# Retrain the model with the best parameters\n",
    "best_clf = grid_search.best_estimator_\n",
    "best_clf.fit(X_train, y_train)\n",
    "\n",
    "# Make predictions on the testing data using the best model\n",
    "y_pred = best_clf.predict(X_test)\n",
    "\n",
    "# Calculate the accuracy of the classifier\n",
    "accuracy = accuracy_score(y_test, y_pred)\n",
    "print(\"Accuracy:\", accuracy)\n",
    "\n",
    "# Calculate the RMSE (Root Mean Squared Error)\n",
    "rmse = np.sqrt(mean_squared_error(y_test, y_pred))\n",
    "print(\"RMSE:\", rmse)\n",
    "\n",
    "# Calculate the F1 score\n",
    "f1 = f1_score(y_test, y_pred, average='weighted')\n",
    "print(\"F1 Score:\", f1)"
   ]
  },
  {
   "cell_type": "markdown",
   "metadata": {
    "id": "tIeQgJMW7hwL"
   },
   "source": [
    "Leave one subject out validation"
   ]
  },
  {
   "cell_type": "code",
   "execution_count": 22,
   "metadata": {
    "colab": {
     "base_uri": "https://localhost:8080/"
    },
    "executionInfo": {
     "elapsed": 716,
     "status": "ok",
     "timestamp": 1713803116821,
     "user": {
      "displayName": "Darshee Machhar",
      "userId": "10629581052995023893"
     },
     "user_tz": 240
    },
    "id": "p9-UGwk_wGAA",
    "outputId": "a01e6016-0398-4d85-f172-b6daa0b6514c"
   },
   "outputs": [
    {
     "name": "stdout",
     "output_type": "stream",
     "text": [
      "[ 4  5  7  8 13 14 19 20 23]\n",
      "4\n",
      "256\n",
      "Accuracy: 1.0\n",
      "RMSE: 0.0\n",
      "F1 Score: 1.0\n",
      "5\n",
      "261\n",
      "Accuracy: 1.0\n",
      "RMSE: 0.0\n",
      "F1 Score: 1.0\n",
      "7\n",
      "287\n",
      "Accuracy: 0.9655172413793104\n",
      "RMSE: 8.886254398866786\n",
      "F1 Score: 0.9724137931034482\n",
      "8\n",
      "260\n",
      "Accuracy: 1.0\n",
      "RMSE: 0.0\n",
      "F1 Score: 1.0\n",
      "13\n",
      "288\n",
      "Accuracy: 1.0\n",
      "RMSE: 0.0\n",
      "F1 Score: 1.0\n",
      "14\n",
      "265\n",
      "Accuracy: 1.0\n",
      "RMSE: 0.0\n",
      "F1 Score: 1.0\n",
      "19\n",
      "247\n",
      "Accuracy: 1.0\n",
      "RMSE: 0.0\n",
      "F1 Score: 1.0\n",
      "20\n",
      "280\n",
      "Accuracy: 0.9642857142857143\n",
      "RMSE: 5.264435935053794\n",
      "F1 Score: 0.9642857142857144\n",
      "23\n",
      "256\n",
      "Accuracy: 0.9615384615384616\n",
      "RMSE: 4.706787243316417\n",
      "F1 Score: 0.9615384615384615\n"
     ]
    }
   ],
   "source": [
    "import pandas as pd\n",
    "from sklearn.tree import DecisionTreeClassifier\n",
    "from sklearn.model_selection import LeaveOneGroupOut\n",
    "from sklearn.metrics import accuracy_score\n",
    "\n",
    "# Define features and target\n",
    "sub_ids = og_data['SubjID'].unique()\n",
    "print(sub_ids)\n",
    "# Initialize Decision Tree classifier\n",
    "clf = DecisionTreeClassifier()\n",
    "\n",
    "for sub in sub_ids:\n",
    "  print(sub)\n",
    "  df = og_data[og_data['SubjID'] != sub]\n",
    "  print(len(df))\n",
    "  y = df['fatigue_rating']\n",
    "  X = df.drop('fatigue_rating', axis=1)\n",
    "  X = X.drop('SubjID', axis=1)\n",
    "  # Split the dataset into training and testing sets\n",
    "  X_train, X_test, y_train, y_test = train_test_split(X, y, test_size=0.2, random_state=42)\n",
    "\n",
    "  # Initialize the decision tree classifier\n",
    "  clf = DecisionTreeClassifier(random_state=42)\n",
    "\n",
    "  # Train the classifier on the training data\n",
    "  clf.fit(X_train, y_train)\n",
    "\n",
    "  # Make predictions on the testing data\n",
    "  y_pred = clf.predict(X_test)\n",
    "  # Calculate the accuracy of the classifier\n",
    "  accuracy = accuracy_score(y_test, y_pred)\n",
    "  print(\"Accuracy:\", accuracy)\n",
    "\n",
    "  # Calculate the RMSE (Root Mean Squared Error)\n",
    "  rmse = np.sqrt(mean_squared_error(y_test, y_pred))\n",
    "  print(\"RMSE:\", rmse)\n",
    "\n",
    "  # Calculate the F1 score\n",
    "  f1 = f1_score(y_test, y_pred, average='weighted')\n",
    "  print(\"F1 Score:\", f1)\n"
   ]
  },
  {
   "cell_type": "code",
   "execution_count": 43,
   "metadata": {
    "colab": {
     "base_uri": "https://localhost:8080/"
    },
    "executionInfo": {
     "elapsed": 612,
     "status": "ok",
     "timestamp": 1713805963792,
     "user": {
      "displayName": "Darshee Machhar",
      "userId": "10629581052995023893"
     },
     "user_tz": 240
    },
    "id": "8bCGB5HUwCii",
    "outputId": "a795808e-e491-4646-8c38-28f864f8a5d5"
   },
   "outputs": [
    {
     "name": "stdout",
     "output_type": "stream",
     "text": [
      "Accuracy: 1.0\n",
      "0\n",
      "Accuracy: 1.0\n",
      "MSE: 0.0\n",
      "1\n",
      "Accuracy: 1.0\n",
      "MSE: 0.0\n",
      "2\n",
      "Accuracy: 1.0\n",
      "MSE: 0.0\n",
      "3\n",
      "Accuracy: 1.0\n",
      "MSE: 0.0\n",
      "4\n",
      "Accuracy: 1.0\n",
      "MSE: 0.0\n",
      "5\n",
      "Accuracy: 1.0\n",
      "MSE: 0.0\n",
      "6\n",
      "Accuracy: 1.0\n",
      "MSE: 0.0\n",
      "7\n",
      "Accuracy: 1.0\n",
      "MSE: 0.0\n",
      "8\n",
      "Accuracy: 1.0\n",
      "MSE: 0.0\n",
      "9\n",
      "Accuracy: 1.0\n",
      "MSE: 0.0\n",
      "10\n",
      "Accuracy: 1.0\n",
      "MSE: 0.0\n",
      "11\n",
      "Accuracy: 1.0\n",
      "MSE: 0.0\n",
      "12\n",
      "Accuracy: 1.0\n",
      "MSE: 0.0\n",
      "13\n",
      "Accuracy: 1.0\n",
      "MSE: 0.0\n",
      "14\n",
      "Accuracy: 1.0\n",
      "MSE: 0.0\n",
      "15\n",
      "Accuracy: 1.0\n",
      "MSE: 0.0\n",
      "16\n",
      "Accuracy: 1.0\n",
      "MSE: 0.0\n",
      "17\n",
      "Accuracy: 1.0\n",
      "MSE: 0.0\n",
      "18\n",
      "Accuracy: 1.0\n",
      "MSE: 0.0\n",
      "19\n",
      "Accuracy: 1.0\n",
      "MSE: 0.0\n",
      "20\n",
      "Accuracy: 1.0\n",
      "MSE: 0.0\n",
      "21\n",
      "Accuracy: 1.0\n",
      "MSE: 0.0\n",
      "22\n",
      "Accuracy: 1.0\n",
      "MSE: 0.0\n",
      "23\n",
      "Accuracy: 1.0\n",
      "MSE: 0.0\n",
      "24\n",
      "Accuracy: 1.0\n",
      "MSE: 0.0\n",
      "25\n",
      "Accuracy: 1.0\n",
      "MSE: 0.0\n",
      "26\n",
      "Accuracy: 1.0\n",
      "MSE: 0.0\n",
      "27\n",
      "Accuracy: 1.0\n",
      "MSE: 0.0\n"
     ]
    }
   ],
   "source": [
    "blocks_indexes = [list(X_test[X_test['Block_ID'] == block_id].index) for block_id in X_test['Block_ID'].unique()]\n",
    "# Predict on test set\n",
    "window_predictions = clf.predict(X_test)\n",
    "accuracy = accuracy_score(y_test, window_predictions)\n",
    "print(\"Accuracy:\", accuracy)\n",
    "\n",
    "# Create block_mapping_test\n",
    "# For X_test\n",
    "X_block_data_test = {}\n",
    "for block_id, indexes in enumerate(blocks_indexes):\n",
    "    X_block_data_test[block_id] = X_test.loc[indexes]\n",
    "\n",
    "# For y_test\n",
    "y_block_data_test = {}\n",
    "for block_id, indexes in enumerate(blocks_indexes):\n",
    "    y_block_data_test[block_id] = y_test.loc[indexes]\n",
    "\n",
    "# For y_pred\n",
    "y_block_data_pred = {}\n",
    "for block_id, indexes in enumerate(blocks_indexes):\n",
    "    y_block_data_pred[block_id] = y_test.loc[indexes]\n",
    "\n",
    "# Aggregate window predictions to block level\n",
    "block_predictions = {}\n",
    "for block_id in y_block_data_test:\n",
    "  print(block_id)\n",
    "  accuracy = accuracy_score(y_block_data_test[block_id], y_block_data_pred[block_id])\n",
    "  print(\"Accuracy:\", accuracy)\n",
    "  mse = mean_squared_error(y_block_data_test[block_id], y_block_data_pred[block_id])\n",
    "  print(\"MSE:\", mse)"
   ]
  },
  {
   "cell_type": "markdown",
   "metadata": {
    "id": "cZtxGVrmooj-"
   },
   "source": [
    "###Testing on Block Level"
   ]
  },
  {
   "cell_type": "code",
   "execution_count": 10,
   "metadata": {
    "executionInfo": {
     "elapsed": 197,
     "status": "ok",
     "timestamp": 1713803111683,
     "user": {
      "displayName": "Darshee Machhar",
      "userId": "10629581052995023893"
     },
     "user_tz": 240
    },
    "id": "yc7Wz7_yoqmS"
   },
   "outputs": [],
   "source": [
    "# Create block_mapping_train\n",
    "block_mapping_train = {}\n",
    "for index, row in X_train.iterrows():  # Assuming X_train is your feature DataFrame\n",
    "    window_id = row['Window_ID']\n",
    "    block_id = row['Block_ID']\n",
    "    block_mapping_train[window_id] = block_id\n",
    "\n",
    "# Create block_mapping_test\n",
    "block_mapping_test = {}\n",
    "for index, row in X_test.iterrows():  # Assuming X_test is your feature DataFrame\n",
    "    window_id = row['Window_ID']\n",
    "    block_id = row['Block_ID']\n",
    "    block_mapping_test[window_id] = block_id\n",
    "\n",
    "# Group the testing dataset by 'Block' and aggregate the 'Target' variable\n",
    "testing_ids = X_test['Window_ID'].unique()\n",
    "test_data = data[data['Window_ID'].isin(testing_ids)]\n",
    "actual_block_targets_test = test_data.groupby('Window_ID')['fatigue_rating'].mean().to_dict()\n",
    "\n",
    "# Remove identifiers from data\n",
    "X_test = X_test.drop(columns=['Window_ID'])\n",
    "X_test = X_test.drop(columns=['Block_ID'])\n",
    "X_train = X_train.drop(columns=['Window_ID'])\n",
    "X_train = X_train.drop(columns=['Block_ID'])"
   ]
  },
  {
   "cell_type": "markdown",
   "metadata": {
    "id": "ritID4r6ZCl-"
   },
   "source": [
    "Mean"
   ]
  },
  {
   "cell_type": "code",
   "execution_count": 11,
   "metadata": {
    "colab": {
     "base_uri": "https://localhost:8080/"
    },
    "executionInfo": {
     "elapsed": 197,
     "status": "ok",
     "timestamp": 1713803111683,
     "user": {
      "displayName": "Darshee Machhar",
      "userId": "10629581052995023893"
     },
     "user_tz": 240
    },
    "id": "uFpGke5s09Ti",
    "outputId": "f711aa22-a3df-443c-dc37-08218b0b2d42"
   },
   "outputs": [
    {
     "name": "stdout",
     "output_type": "stream",
     "text": [
      "Predictions at the block level: {'4_5_1': 13.0, '4_2_7': 9.0, '19_2_1': 15.0, '23_4_2': 19.0, '23_5_2': 17.0, '19_5_0': 28.0, '23_1_9': 5.0, '19_1_8': 8.0, '4_3_3': 13.0, '13_6_4': 14.0, '5_3_5': 4.0, '23_1_1': 5.0, '23_3_6': 19.0, '19_4_3': 32.0, '8_1_2': -11.0, '19_3_3': 18.0, '23_4_8': 19.0, '4_4_0': 11.0, '5_6_7': 15.0, '14_2_7': 13.0, '4_6_6': 11.0, '4_4_5': 14.0, '8_5_3': 19.0, '4_6_3': 11.0, '19_6_4': 16.0, '19_3_6': 18.0, '4_3_4': 13.0, '7_3_0': 19.0, '8_3_0': 15.0, '19_2_4': 15.0, '13_6_0': 14.0, '23_2_1': 3.0, '4_5_2': 13.0, '5_5_7': 12.0, '4_4_4': 11.0, '14_2_4': 13.0, '8_3_3': 15.0, '20_2_4': -2.0, '14_5_2': 27.0, '23_5_4': 17.0, '7_6_0': 57.0, '14_1_2': 4.0, '13_6_3': 14.0, '4_4_1': 11.0, '20_2_3': -2.0, '7_1_0': 54.0, '19_4_0': 32.0, '5_2_5': 3.0, '19_5_6': 28.0}\n"
     ]
    }
   ],
   "source": [
    "from sklearn.tree import DecisionTreeRegressor\n",
    "import numpy as np\n",
    "\n",
    "# Sample dataset\n",
    "# Assuming X_train, y_train, X_test, y_test are already prepared\n",
    "# X_train and X_test should contain window-level features\n",
    "# y_train and y_test should contain window-level target variable\n",
    "# block_mapping_train and block_mapping_test should contain mapping between windows and blocks\n",
    "\n",
    "# Train Decision Tree model\n",
    "model = DecisionTreeRegressor()\n",
    "model.fit(X_train, y_train)\n",
    "\n",
    "# Predict on test set\n",
    "window_predictions = model.predict(X_test)\n",
    "\n",
    "# Aggregate window predictions to block level\n",
    "block_predictions_mean = {}\n",
    "for i, (window_pred, block_id) in enumerate(zip(window_predictions, block_mapping_test)):\n",
    "    if block_id not in block_predictions_mean:\n",
    "        block_predictions_mean[block_id] = []\n",
    "    block_predictions_mean[block_id].append(window_pred)\n",
    "\n",
    "# Average window predictions within each block\n",
    "for block_id, window_preds in block_predictions_mean.items():\n",
    "    block_predictions_mean[block_id] = np.mean(window_preds)\n",
    "\n",
    "# Now block_predictions contains predictions for each block\n",
    "print(\"Predictions at the block level:\", block_predictions_mean)"
   ]
  },
  {
   "cell_type": "code",
   "execution_count": 12,
   "metadata": {
    "colab": {
     "base_uri": "https://localhost:8080/"
    },
    "executionInfo": {
     "elapsed": 9,
     "status": "ok",
     "timestamp": 1713803111683,
     "user": {
      "displayName": "Darshee Machhar",
      "userId": "10629581052995023893"
     },
     "user_tz": 240
    },
    "id": "Jo_BReyA1AwA",
    "outputId": "7e7a838d-b52f-4714-a9c8-e1329e0fdf9f"
   },
   "outputs": [
    {
     "name": "stdout",
     "output_type": "stream",
     "text": [
      "Mean Squared Error (MSE): 3069.061224489796\n",
      "Accuracy: 0.02040816326530612\n"
     ]
    }
   ],
   "source": [
    "from sklearn.metrics import mean_squared_error, accuracy_score\n",
    "\n",
    "# Convert block-level predictions and actuals to arrays\n",
    "block_preds_array_mean = np.array(list(block_predictions_mean.values()))\n",
    "actual_block_targets_array_mean = np.array(list(actual_block_targets_test.values()))\n",
    "\n",
    "# Calculate Mean Squared Error (MSE) for regression tasks\n",
    "mse = mean_squared_error(actual_block_targets_array_mean, block_preds_array_mean)\n",
    "print(\"Mean Squared Error (MSE):\", mse)\n",
    "\n",
    "# Calculate Accuracy for classification tasks\n",
    "accuracy = accuracy_score(actual_block_targets_array_mean, block_preds_array_mean)\n",
    "print(\"Accuracy:\", accuracy)\n"
   ]
  },
  {
   "cell_type": "markdown",
   "metadata": {
    "id": "PTUs5q43ZD2g"
   },
   "source": [
    "Mode"
   ]
  },
  {
   "cell_type": "code",
   "execution_count": 13,
   "metadata": {
    "colab": {
     "base_uri": "https://localhost:8080/"
    },
    "executionInfo": {
     "elapsed": 6,
     "status": "ok",
     "timestamp": 1713803111683,
     "user": {
      "displayName": "Darshee Machhar",
      "userId": "10629581052995023893"
     },
     "user_tz": 240
    },
    "id": "r_9SOIb1ZEsZ",
    "outputId": "e32269e0-1f14-478c-c60d-c0204bee5661"
   },
   "outputs": [
    {
     "name": "stdout",
     "output_type": "stream",
     "text": [
      "Predictions at the block level: {'4_5_1': 13.0, '4_2_7': 9.0, '19_2_1': 15.0, '23_4_2': 19.0, '23_5_2': 17.0, '19_5_0': 28.0, '23_1_9': 5.0, '19_1_8': 8.0, '4_3_3': 13.0, '13_6_4': 14.0, '5_3_5': 4.0, '23_1_1': 5.0, '23_3_6': 19.0, '19_4_3': 32.0, '8_1_2': -11.0, '19_3_3': 18.0, '23_4_8': 19.0, '4_4_0': 11.0, '5_6_7': 15.0, '14_2_7': 13.0, '4_6_6': 11.0, '4_4_5': 11.0, '8_5_3': 19.0, '4_6_3': 11.0, '19_6_4': 16.0, '19_3_6': 18.0, '4_3_4': 13.0, '7_3_0': 19.0, '8_3_0': 15.0, '19_2_4': 15.0, '13_6_0': 14.0, '23_2_1': 3.0, '4_5_2': 13.0, '5_5_7': 12.0, '4_4_4': 11.0, '14_2_4': 13.0, '8_3_3': 15.0, '20_2_4': -2.0, '14_5_2': 27.0, '23_5_4': 17.0, '7_6_0': 57.0, '14_1_2': 4.0, '13_6_3': 14.0, '4_4_1': 11.0, '20_2_3': -2.0, '7_1_0': 54.0, '19_4_0': 32.0, '5_2_5': 2.0, '19_5_6': 28.0}\n"
     ]
    }
   ],
   "source": [
    "from sklearn.tree import DecisionTreeRegressor\n",
    "import numpy as np\n",
    "from scipy import stats\n",
    "\n",
    "# Sample dataset\n",
    "# Assuming X_train, y_train, X_test, y_test are already prepared\n",
    "# X_train and X_test should contain window-level features\n",
    "# y_train and y_test should contain window-level target variable\n",
    "# block_mapping_train and block_mapping_test should contain mapping between windows and blocks\n",
    "\n",
    "# Train Decision Tree model\n",
    "model = DecisionTreeRegressor()\n",
    "model.fit(X_train, y_train)\n",
    "\n",
    "# Predict on test set\n",
    "window_predictions = model.predict(X_test)\n",
    "\n",
    "# Aggregate window predictions to block level\n",
    "block_predictions_mode = {}\n",
    "for i, (window_pred, block_id) in enumerate(zip(window_predictions, block_mapping_test)):\n",
    "    if block_id not in block_predictions_mode:\n",
    "        block_predictions_mode[block_id] = []\n",
    "    block_predictions_mode[block_id].append(window_pred)\n",
    "\n",
    "# Average window predictions within each block\n",
    "for block_id, window_preds in block_predictions_mode.items():\n",
    "    block_predictions_mode[block_id] = stats.mode(window_preds)[0]\n",
    "\n",
    "# Now block_predictions contains predictions for each block\n",
    "print(\"Predictions at the block level:\", block_predictions_mode)"
   ]
  },
  {
   "cell_type": "code",
   "execution_count": 14,
   "metadata": {
    "colab": {
     "base_uri": "https://localhost:8080/"
    },
    "executionInfo": {
     "elapsed": 5,
     "status": "ok",
     "timestamp": 1713803111684,
     "user": {
      "displayName": "Darshee Machhar",
      "userId": "10629581052995023893"
     },
     "user_tz": 240
    },
    "id": "vbT1G56HZGjS",
    "outputId": "7ea525e5-d2f8-4b5e-fe48-e28233c7d750"
   },
   "outputs": [
    {
     "name": "stdout",
     "output_type": "stream",
     "text": [
      "Mean Squared Error (MSE): 3075.061224489796\n",
      "Accuracy: 0.02040816326530612\n"
     ]
    }
   ],
   "source": [
    "from sklearn.metrics import mean_squared_error, accuracy_score\n",
    "\n",
    "# Convert block-level predictions and actuals to arrays\n",
    "block_preds_array_mode = np.array(list(block_predictions_mode.values()))\n",
    "actual_block_targets_array_mode = np.array(list(actual_block_targets_test.values()))\n",
    "\n",
    "# Calculate Mean Squared Error (MSE) for regression tasks\n",
    "mse = mean_squared_error(actual_block_targets_array_mode, block_preds_array_mode)\n",
    "print(\"Mean Squared Error (MSE):\", mse)\n",
    "\n",
    "# Calculate Accuracy for classification tasks\n",
    "accuracy = accuracy_score(actual_block_targets_array_mode, block_preds_array_mode)\n",
    "print(\"Accuracy:\", accuracy)\n"
   ]
  },
  {
   "cell_type": "markdown",
   "metadata": {
    "id": "rMi6wdO_hOm7"
   },
   "source": [
    "Median"
   ]
  },
  {
   "cell_type": "code",
   "execution_count": 15,
   "metadata": {
    "colab": {
     "base_uri": "https://localhost:8080/"
    },
    "executionInfo": {
     "elapsed": 4,
     "status": "ok",
     "timestamp": 1713803111684,
     "user": {
      "displayName": "Darshee Machhar",
      "userId": "10629581052995023893"
     },
     "user_tz": 240
    },
    "id": "YyB9NJWYhQ7R",
    "outputId": "81fc3661-4bb1-4607-ce59-53ae19257379"
   },
   "outputs": [
    {
     "name": "stdout",
     "output_type": "stream",
     "text": [
      "Predictions at the block level: {'4_5_1': 13.0, '4_2_7': 9.0, '19_2_1': 15.0, '23_4_2': 19.0, '23_5_2': 17.0, '19_5_0': 28.0, '23_1_9': 5.0, '19_1_8': 8.0, '4_3_3': 13.0, '13_6_4': 14.0, '5_3_5': 4.0, '23_1_1': 5.0, '23_3_6': 19.0, '19_4_3': 32.0, '8_1_2': -11.0, '19_3_3': 18.0, '23_4_8': 19.0, '4_4_0': 11.0, '5_6_7': 15.0, '14_2_7': 13.0, '4_6_6': 11.0, '4_4_5': 11.0, '8_5_3': 19.0, '4_6_3': 11.0, '19_6_4': 16.0, '19_3_6': 18.0, '4_3_4': 13.0, '7_3_0': 14.0, '8_3_0': 15.0, '19_2_4': 15.0, '13_6_0': 14.0, '23_2_1': 3.0, '4_5_2': 13.0, '5_5_7': 12.0, '4_4_4': 11.0, '14_2_4': 13.0, '8_3_3': 19.0, '20_2_4': -2.0, '14_5_2': 27.0, '23_5_4': 17.0, '7_6_0': 57.0, '14_1_2': 4.0, '13_6_3': 14.0, '4_4_1': 11.0, '20_2_3': -2.0, '7_1_0': 54.0, '19_4_0': 32.0, '5_2_5': 2.0, '19_5_6': 28.0}\n"
     ]
    }
   ],
   "source": [
    "from sklearn.tree import DecisionTreeRegressor\n",
    "import numpy as np\n",
    "from scipy import stats\n",
    "\n",
    "# Sample dataset\n",
    "# Assuming X_train, y_train, X_test, y_test are already prepared\n",
    "# X_train and X_test should contain window-level features\n",
    "# y_train and y_test should contain window-level target variable\n",
    "# block_mapping_train and block_mapping_test should contain mapping between windows and blocks\n",
    "\n",
    "# Train Decision Tree model\n",
    "model = DecisionTreeRegressor()\n",
    "model.fit(X_train, y_train)\n",
    "\n",
    "# Predict on test set\n",
    "window_predictions = model.predict(X_test)\n",
    "\n",
    "# Aggregate window predictions to block level\n",
    "block_predictions_median = {}\n",
    "for i, (window_pred, block_id) in enumerate(zip(window_predictions, block_mapping_test)):\n",
    "    if block_id not in block_predictions_median:\n",
    "        block_predictions_median[block_id] = []\n",
    "    block_predictions_median[block_id].append(window_pred)\n",
    "\n",
    "# Average window predictions within each block\n",
    "for block_id, window_preds in block_predictions_median.items():\n",
    "    block_predictions_median[block_id] = np.median(window_preds)\n",
    "\n",
    "# Now block_predictions contains predictions for each block\n",
    "print(\"Predictions at the block level:\", block_predictions_median)"
   ]
  },
  {
   "cell_type": "code",
   "execution_count": 16,
   "metadata": {
    "colab": {
     "base_uri": "https://localhost:8080/"
    },
    "executionInfo": {
     "elapsed": 197,
     "status": "ok",
     "timestamp": 1713803111878,
     "user": {
      "displayName": "Darshee Machhar",
      "userId": "10629581052995023893"
     },
     "user_tz": 240
    },
    "id": "Vb5tpzgqhjWJ",
    "outputId": "1b8470df-98f9-422b-9864-2abfeb351f99"
   },
   "outputs": [
    {
     "name": "stdout",
     "output_type": "stream",
     "text": [
      "Mean Squared Error (MSE): 3077.4897959183672\n",
      "Accuracy: 0.02040816326530612\n"
     ]
    }
   ],
   "source": [
    "from sklearn.metrics import mean_squared_error, accuracy_score\n",
    "\n",
    "# Convert block-level predictions and actuals to arrays\n",
    "block_preds_array_median = np.array(list(block_predictions_median.values()))\n",
    "actual_block_targets_array_median = np.array(list(actual_block_targets_test.values()))\n",
    "\n",
    "# Calculate Mean Squared Error (MSE) for regression tasks\n",
    "mse = mean_squared_error(actual_block_targets_array_median, block_preds_array_median)\n",
    "print(\"Mean Squared Error (MSE):\", mse)\n",
    "\n",
    "# Calculate Accuracy for classification tasks\n",
    "accuracy = accuracy_score(actual_block_targets_array_median, block_preds_array_median)\n",
    "print(\"Accuracy:\", accuracy)\n"
   ]
  },
  {
   "cell_type": "markdown",
   "metadata": {
    "id": "OdbrdkUOhPQ7"
   },
   "source": [
    "Min"
   ]
  },
  {
   "cell_type": "code",
   "execution_count": 17,
   "metadata": {
    "colab": {
     "base_uri": "https://localhost:8080/"
    },
    "executionInfo": {
     "elapsed": 8,
     "status": "ok",
     "timestamp": 1713803111878,
     "user": {
      "displayName": "Darshee Machhar",
      "userId": "10629581052995023893"
     },
     "user_tz": 240
    },
    "id": "jw6WpYYDhS4y",
    "outputId": "86e65b36-8a52-4ee9-d15a-6eba809c45e5"
   },
   "outputs": [
    {
     "name": "stdout",
     "output_type": "stream",
     "text": [
      "Predictions at the block level: {'4_5_1': 13.0, '4_2_7': 9.0, '19_2_1': 15.0, '23_4_2': 19.0, '23_5_2': 17.0, '19_5_0': 28.0, '23_1_9': 5.0, '19_1_8': 8.0, '4_3_3': 13.0, '13_6_4': 14.0, '5_3_5': 4.0, '23_1_1': 5.0, '23_3_6': 19.0, '19_4_3': 32.0, '8_1_2': -11.0, '19_3_3': 18.0, '23_4_8': 19.0, '4_4_0': 11.0, '5_6_7': 15.0, '14_2_7': 13.0, '4_6_6': 11.0, '4_4_5': 11.0, '8_5_3': 19.0, '4_6_3': 11.0, '19_6_4': 16.0, '19_3_6': 18.0, '4_3_4': 13.0, '7_3_0': 19.0, '8_3_0': 15.0, '19_2_4': 15.0, '13_6_0': 14.0, '23_2_1': 3.0, '4_5_2': 13.0, '5_5_7': 12.0, '4_4_4': 11.0, '14_2_4': 13.0, '8_3_3': 15.0, '20_2_4': -2.0, '14_5_2': 27.0, '23_5_4': 17.0, '7_6_0': 57.0, '14_1_2': 4.0, '13_6_3': 14.0, '4_4_1': 11.0, '20_2_3': -2.0, '7_1_0': 54.0, '19_4_0': 32.0, '5_2_5': 2.0, '19_5_6': 28.0}\n"
     ]
    }
   ],
   "source": [
    "from sklearn.tree import DecisionTreeRegressor\n",
    "import numpy as np\n",
    "from scipy import stats\n",
    "\n",
    "# Sample dataset\n",
    "# Assuming X_train, y_train, X_test, y_test are already prepared\n",
    "# X_train and X_test should contain window-level features\n",
    "# y_train and y_test should contain window-level target variable\n",
    "# block_mapping_train and block_mapping_test should contain mapping between windows and blocks\n",
    "\n",
    "# Train Decision Tree model\n",
    "model = DecisionTreeRegressor()\n",
    "model.fit(X_train, y_train)\n",
    "\n",
    "# Predict on test set\n",
    "window_predictions = model.predict(X_test)\n",
    "\n",
    "# Aggregate window predictions to block level\n",
    "block_predictions_min = {}\n",
    "for i, (window_pred, block_id) in enumerate(zip(window_predictions, block_mapping_test)):\n",
    "    if block_id not in block_predictions_min:\n",
    "        block_predictions_min[block_id] = []\n",
    "    block_predictions_min[block_id].append(window_pred)\n",
    "\n",
    "# Average window predictions within each block\n",
    "for block_id, window_preds in block_predictions_min.items():\n",
    "    block_predictions_min[block_id] = np.min(window_preds)\n",
    "\n",
    "# Now block_predictions contains predictions for each block\n",
    "print(\"Predictions at the block level:\", block_predictions_min)"
   ]
  },
  {
   "cell_type": "code",
   "execution_count": 18,
   "metadata": {
    "colab": {
     "base_uri": "https://localhost:8080/"
    },
    "executionInfo": {
     "elapsed": 6,
     "status": "ok",
     "timestamp": 1713803111878,
     "user": {
      "displayName": "Darshee Machhar",
      "userId": "10629581052995023893"
     },
     "user_tz": 240
    },
    "id": "U2JFH-H5hkIm",
    "outputId": "2a892047-cc50-4c56-ed7a-40e65a86fe48"
   },
   "outputs": [
    {
     "name": "stdout",
     "output_type": "stream",
     "text": [
      "Mean Squared Error (MSE): 3075.061224489796\n",
      "Accuracy: 0.02040816326530612\n"
     ]
    }
   ],
   "source": [
    "from sklearn.metrics import mean_squared_error, accuracy_score\n",
    "\n",
    "# Convert block-level predictions and actuals to arrays\n",
    "block_preds_array_min = np.array(list(block_predictions_min.values()))\n",
    "actual_block_targets_array_min = np.array(list(actual_block_targets_test.values()))\n",
    "\n",
    "# Calculate Mean Squared Error (MSE) for regression tasks\n",
    "mse = mean_squared_error(actual_block_targets_array_min, block_preds_array_min)\n",
    "print(\"Mean Squared Error (MSE):\", mse)\n",
    "\n",
    "# Calculate Accuracy for classification tasks\n",
    "accuracy = accuracy_score(actual_block_targets_array_min, block_preds_array_min)\n",
    "print(\"Accuracy:\", accuracy)\n"
   ]
  },
  {
   "cell_type": "markdown",
   "metadata": {
    "id": "mRaFx721hPxx"
   },
   "source": [
    "Max"
   ]
  },
  {
   "cell_type": "code",
   "execution_count": 19,
   "metadata": {
    "colab": {
     "base_uri": "https://localhost:8080/"
    },
    "executionInfo": {
     "elapsed": 4,
     "status": "ok",
     "timestamp": 1713803111878,
     "user": {
      "displayName": "Darshee Machhar",
      "userId": "10629581052995023893"
     },
     "user_tz": 240
    },
    "id": "ZPjh0RylhT67",
    "outputId": "02cb9c0a-6de1-462f-d321-4a726b2df737"
   },
   "outputs": [
    {
     "name": "stdout",
     "output_type": "stream",
     "text": [
      "Predictions at the block level: {'4_5_1': 13.0, '4_2_7': 9.0, '19_2_1': 15.0, '23_4_2': 19.0, '23_5_2': 17.0, '19_5_0': 28.0, '23_1_9': 5.0, '19_1_8': 8.0, '4_3_3': 13.0, '13_6_4': 11.0, '5_3_5': 4.0, '23_1_1': 5.0, '23_3_6': 19.0, '19_4_3': 32.0, '8_1_2': -11.0, '19_3_3': 18.0, '23_4_8': 19.0, '4_4_0': 11.0, '5_6_7': 15.0, '14_2_7': 13.0, '4_6_6': 11.0, '4_4_5': 11.0, '8_5_3': 19.0, '4_6_3': 11.0, '19_6_4': 16.0, '19_3_6': 18.0, '4_3_4': 13.0, '7_3_0': 19.0, '8_3_0': 15.0, '19_2_4': 15.0, '13_6_0': 14.0, '23_2_1': 3.0, '4_5_2': 13.0, '5_5_7': 12.0, '4_4_4': 11.0, '14_2_4': 13.0, '8_3_3': 15.0, '20_2_4': -2.0, '14_5_2': 27.0, '23_5_4': 17.0, '7_6_0': 57.0, '14_1_2': 4.0, '13_6_3': 14.0, '4_4_1': 11.0, '20_2_3': -2.0, '7_1_0': 54.0, '19_4_0': 32.0, '5_2_5': 2.0, '19_5_6': 28.0}\n"
     ]
    }
   ],
   "source": [
    "from sklearn.tree import DecisionTreeRegressor\n",
    "import numpy as np\n",
    "from scipy import stats\n",
    "\n",
    "# Sample dataset\n",
    "# Assuming X_train, y_train, X_test, y_test are already prepared\n",
    "# X_train and X_test should contain window-level features\n",
    "# y_train and y_test should contain window-level target variable\n",
    "# block_mapping_train and block_mapping_test should contain mapping between windows and blocks\n",
    "\n",
    "# Train Decision Tree model\n",
    "model = DecisionTreeRegressor()\n",
    "model.fit(X_train, y_train)\n",
    "\n",
    "# Predict on test set\n",
    "window_predictions = model.predict(X_test)\n",
    "\n",
    "# Aggregate window predictions to block level\n",
    "block_predictions_max = {}\n",
    "for i, (window_pred, block_id) in enumerate(zip(window_predictions, block_mapping_test)):\n",
    "    if block_id not in block_predictions_max:\n",
    "        block_predictions_max[block_id] = []\n",
    "    block_predictions_max[block_id].append(window_pred)\n",
    "\n",
    "# Average window predictions within each block\n",
    "for block_id, window_preds in block_predictions_max.items():\n",
    "    block_predictions_max[block_id] = np.max(window_preds)\n",
    "\n",
    "# Now block_predictions contains predictions for each block\n",
    "print(\"Predictions at the block level:\", block_predictions_max)"
   ]
  },
  {
   "cell_type": "code",
   "execution_count": 20,
   "metadata": {
    "colab": {
     "base_uri": "https://localhost:8080/"
    },
    "executionInfo": {
     "elapsed": 3,
     "status": "ok",
     "timestamp": 1713803111878,
     "user": {
      "displayName": "Darshee Machhar",
      "userId": "10629581052995023893"
     },
     "user_tz": 240
    },
    "id": "TQnlhI7Yhk2k",
    "outputId": "06aedc9b-22dd-412d-f4ae-a9d5f3c6e39a"
   },
   "outputs": [
    {
     "name": "stdout",
     "output_type": "stream",
     "text": [
      "Mean Squared Error (MSE): 3079.285714285714\n",
      "Accuracy: 0.02040816326530612\n"
     ]
    }
   ],
   "source": [
    "from sklearn.metrics import mean_squared_error, accuracy_score\n",
    "\n",
    "# Convert block-level predictions and actuals to arrays\n",
    "block_preds_array_max = np.array(list(block_predictions_max.values()))\n",
    "actual_block_targets_array_max = np.array(list(actual_block_targets_test.values()))\n",
    "\n",
    "# Calculate Mean Squared Error (MSE) for regression tasks\n",
    "mse = mean_squared_error(actual_block_targets_array_max, block_preds_array_max)\n",
    "print(\"Mean Squared Error (MSE):\", mse)\n",
    "\n",
    "# Calculate Accuracy for classification tasks\n",
    "accuracy = accuracy_score(actual_block_targets_array_max, block_preds_array_max)\n",
    "print(\"Accuracy:\", accuracy)\n"
   ]
  },
  {
   "cell_type": "markdown",
   "metadata": {
    "id": "t_n5Kv0fY6n9"
   },
   "source": [
    "###Information Gain Scores"
   ]
  },
  {
   "cell_type": "code",
   "execution_count": 23,
   "metadata": {
    "colab": {
     "base_uri": "https://localhost:8080/"
    },
    "executionInfo": {
     "elapsed": 1172,
     "status": "ok",
     "timestamp": 1713803117990,
     "user": {
      "displayName": "Darshee Machhar",
      "userId": "10629581052995023893"
     },
     "user_tz": 240
    },
    "id": "NxfipAa2wQj4",
    "outputId": "fcc8b441-d240-4d4f-8956-5a1ea099c6b9"
   },
   "outputs": [
    {
     "name": "stdout",
     "output_type": "stream",
     "text": [
      "Block 0.008297606709508538\n",
      "window_num_30 0.0\n",
      "Age 0.13244149589210386\n",
      "HRV_MeanNN 4.1833686621396124e-05\n",
      "HRV_SDNN 0.0004277278030112188\n",
      "HRV_RMSSD 9.568162677909383e-07\n",
      "HRV_SDSD 1.6256421017476873e-06\n",
      "HRV_CVNN 0.00017416089861500578\n",
      "HRV_CVSD 2.030482066755612e-05\n",
      "HRV_MedianNN 0.00011123690949504619\n",
      "HRV_MadNN 0.0\n",
      "HRV_MCVNN 1.146939207529334e-05\n",
      "HRV_IQRNN 2.3947915253380286e-05\n",
      "HRV_SDRMSSD 0.0\n",
      "HRV_Prc20NN 5.015452739276118e-06\n",
      "HRV_Prc80NN 1.5397401719585848e-06\n",
      "HRV_pNN50 0.00011945439498453083\n",
      "HRV_pNN20 2.639140753706991e-05\n",
      "HRV_MinNN 0.0\n",
      "HRV_MaxNN 2.759156413888128e-06\n",
      "HRV_HTI 2.117459796984359e-06\n",
      "HRV_TINN 0.0\n",
      "HRV_HF 1.1622287461411652e-07\n",
      "HRV_VHF 0.0\n",
      "HRV_TP 5.014176731467234e-05\n",
      "HRV_HFn 0.0\n",
      "HRV_LnHF 1.770932682277296e-06\n",
      "HRV_SD1 2.4020908705426254e-05\n",
      "HRV_SD2 0.00022833564314450684\n",
      "HRV_SD1SD2 1.265476899656587e-06\n",
      "HRV_S 1.1339555968798319e-05\n",
      "HRV_CSI 1.3293088254311556e-05\n",
      "HRV_CVI 5.953634544285717e-06\n",
      "HRV_CSI_Modified 0.00039427526769067564\n",
      "HRV_PIP 1.1905897201884924e-06\n",
      "HRV_IALS 2.6724039421482263e-05\n",
      "HRV_PSS 1.867385482682226e-06\n",
      "HRV_PAS 0.0\n",
      "HRV_GI 2.483967755592224e-05\n",
      "HRV_SI 0.0\n",
      "HRV_AI 0.0\n",
      "HRV_PI 6.120845983283696e-07\n",
      "HRV_C1d 0.0001865371542578209\n",
      "HRV_C1a 0.0\n",
      "HRV_SD1d 3.2687683485160814e-06\n",
      "HRV_SD1a 1.964306412999823e-06\n",
      "HRV_C2d 0.0\n",
      "HRV_C2a 0.0\n",
      "HRV_SD2d 0.00023489758535082553\n",
      "HRV_SD2a 2.0068392839740862e-07\n",
      "HRV_Cd 9.976322147652752e-07\n",
      "HRV_Ca 2.536556096984308e-06\n",
      "HRV_SDNNd 0.00016090031311874624\n",
      "HRV_SDNNa 1.0817535224240094e-05\n",
      "HRV_DFA_alpha1 0.0\n",
      "HRV_MFDFA_alpha1_Width 1.331438979982517e-06\n",
      "HRV_MFDFA_alpha1_Peak 2.085362248113184e-06\n",
      "HRV_MFDFA_alpha1_Mean 5.187079738614848e-05\n",
      "HRV_MFDFA_alpha1_Max 5.299377731524172e-07\n",
      "HRV_MFDFA_alpha1_Delta 9.213581347250078e-06\n",
      "HRV_MFDFA_alpha1_Asymmetry 2.3174577669352533e-06\n",
      "HRV_MFDFA_alpha1_Fluctuation 1.7118049557035775e-06\n",
      "HRV_MFDFA_alpha1_Increment 2.7988522415082538e-05\n",
      "HRV_ApEn 0.0\n",
      "HRV_SampEn 5.623702742387377e-06\n",
      "HRV_ShanEn 1.8776680948515055e-05\n",
      "HRV_FuzzyEn 1.0854496306206944e-05\n",
      "HRV_MSEn 0.0\n",
      "HRV_CMSEn 4.818378591747378e-05\n",
      "HRV_RCMSEn 8.207298864738865e-08\n",
      "HRV_CD 8.891240436750234e-07\n",
      "HRV_HFD 0.0\n",
      "HRV_KFD 2.0272516446831935e-06\n",
      "HRV_LZC 0.0\n",
      "Delta_fatigue 0.008891661665287291\n",
      "Change_from_Baseline 0.091925862214921\n",
      "Delta_window_num_30 0.0013274381836875433\n",
      "Delta_HRV_MeanNN 0.011795038942806469\n",
      "Delta_HRV_SDNN 0.0007495711421846911\n",
      "Delta_HRV_SDSD 0.0013776112204051505\n",
      "Delta_HRV_CVNN 0.0012088005513988054\n",
      "Delta_HRV_CVSD 0.0009348079509785075\n",
      "Delta_HRV_MedianNN 0.0011213321225361159\n",
      "Delta_HRV_MadNN 0.0001470440080382204\n",
      "Delta_HRV_MCVNN 0.044862628251747305\n",
      "Delta_HRV_IQRNN 0.000987066105489785\n",
      "Delta_HRV_SDRMSSD 0.0007428281337846272\n",
      "Delta_HRV_Prc20NN 0.0008995583181267388\n",
      "Delta_HRV_Prc80NN 0.00285811055910448\n",
      "Delta_HRV_pNN50 0.0037271326974904527\n",
      "Delta_HRV_pNN20 0.0029585368037657427\n",
      "Delta_HRV_MinNN 0.00034421063682314116\n",
      "Delta_HRV_MaxNN 0.008406412886817398\n",
      "Delta_HRV_HTI 0.00309178020580767\n",
      "Delta_HRV_TINN 0.0003501088351064726\n",
      "Delta_HRV_VHF 0.00029189128824269774\n",
      "Delta_HRV_TP 0.00018788806055427488\n",
      "Delta_HRV_LnHF 0.0028232733044598313\n",
      "Delta_HRV_SD1 0.0010162144111110138\n",
      "Delta_HRV_SD2 0.0014213396192146374\n",
      "Delta_HRV_SD1SD2 0.000834801661959592\n",
      "Delta_HRV_S 0.0034481420296265074\n",
      "Delta_HRV_CSI 0.008115016708733961\n",
      "Delta_HRV_CVI 0.0016252947715852581\n",
      "Delta_HRV_CSI_Modified 0.0032312644595459956\n",
      "Delta_HRV_PIP 0.0027347654075886157\n",
      "Delta_HRV_IALS 0.00030661920149132287\n",
      "Delta_HRV_PSS 0.007104417403758662\n",
      "Delta_HRV_PAS 0.00027478942920860437\n",
      "Delta_HRV_GI 0.001892537017217688\n",
      "Delta_HRV_SI 0.001078715622540031\n",
      "Delta_HRV_AI 0.0025305700078559618\n",
      "Delta_HRV_PI 0.0015587493219264895\n",
      "Delta_HRV_C1d 0.0007765190703883939\n",
      "Delta_HRV_C1a 0.0002204174275157578\n",
      "Delta_HRV_SD1d 0.0017154771102041897\n",
      "Delta_HRV_SD1a 0.0001762246733586679\n",
      "Delta_HRV_C2d 0.0005317207971062834\n",
      "Delta_HRV_C2a 0.002562649253722668\n",
      "Delta_HRV_SD2d 0.0005935538030493944\n",
      "Delta_HRV_SD2a 0.0031913582110740285\n",
      "Delta_HRV_Cd 0.00011993664636510524\n",
      "Delta_HRV_Ca 0.000693529880216907\n",
      "Delta_HRV_SDNNd 0.00081063856707817\n",
      "Delta_HRV_SDNNa 0.0029394141620103544\n",
      "Delta_HRV_DFA_alpha1 0.00032640307699042165\n",
      "Delta_HRV_MFDFA_alpha1_Width 0.004354039007386847\n",
      "Delta_HRV_MFDFA_alpha1_Peak 0.005068587218417101\n",
      "Delta_HRV_MFDFA_alpha1_Mean 0.01693243283731333\n",
      "Delta_HRV_MFDFA_alpha1_Max 0.0002388441562797539\n",
      "Delta_HRV_MFDFA_alpha1_Delta 0.0003625432689736909\n",
      "Delta_HRV_MFDFA_alpha1_Asymmetry 0.0007054454725968199\n",
      "Delta_HRV_MFDFA_alpha1_Fluctuation 0.00025953555323481275\n",
      "Delta_HRV_MFDFA_alpha1_Increment 0.0009165340724488022\n",
      "Delta_HRV_ApEn 0.00330310232357651\n",
      "Delta_HRV_SampEn 0.00047803730727187256\n",
      "Delta_HRV_ShanEn 0.00024990688123515683\n",
      "Delta_HRV_FuzzyEn 0.00010273064497298774\n",
      "Delta_HRV_MSEn 0.0006052367779201076\n",
      "Delta_HRV_CMSEn 0.00025360989295147244\n",
      "Delta_HRV_RCMSEn 0.000412082744280117\n",
      "Delta_HRV_CD 0.00023880232768231418\n",
      "Delta_HRV_HFD 0.0001727669407400047\n",
      "Delta_HRV_KFD 0.0013920247792270914\n",
      "Delta_HRV_LZC 0.0018299842261886188\n",
      "Window_ID 0.20487794794709177\n",
      "Block_ID 0.3701231348535621\n"
     ]
    }
   ],
   "source": [
    "import numpy as np\n",
    "import pandas as pd\n",
    "from sklearn.ensemble import RandomForestRegressor\n",
    "\n",
    "# Create and fit a Random Forest Regressor\n",
    "rf = RandomForestRegressor(n_estimators=100, random_state=42)\n",
    "rf.fit(X, y)\n",
    "\n",
    "# Get feature importances\n",
    "feature_importances = rf.feature_importances_\n",
    "\n",
    "# Create a DataFrame to display feature names and their importances\n",
    "feature_importance_df = pd.DataFrame({'Feature': X.columns, 'Importance': feature_importances})\n",
    "\n",
    "# Sort features by importance\n",
    "feature_importance = feature_importance_df.sort_values(by='Importance', ascending=False)\n",
    "# Print or visualize feature importances\n",
    "for i in range(len(feature_importance)):\n",
    "  print(feature_importance[\"Feature\"][i], feature_importance_df[\"Importance\"][i])"
   ]
  },
  {
   "cell_type": "code",
   "execution_count": 24,
   "metadata": {
    "colab": {
     "base_uri": "https://localhost:8080/",
     "height": 0
    },
    "executionInfo": {
     "elapsed": 6,
     "status": "ok",
     "timestamp": 1713803117990,
     "user": {
      "displayName": "Darshee Machhar",
      "userId": "10629581052995023893"
     },
     "user_tz": 240
    },
    "id": "O50rPj0R1hqM",
    "outputId": "f11e49e6-b754-4a55-c124-5a645a46a8b9"
   },
   "outputs": [
    {
     "data": {
      "application/vnd.google.colaboratory.intrinsic+json": {
       "summary": "{\n  \"name\": \"feature_importance\",\n  \"rows\": 147,\n  \"fields\": [\n    {\n      \"column\": \"Feature\",\n      \"properties\": {\n        \"dtype\": \"string\",\n        \"num_unique_values\": 147,\n        \"samples\": [\n          \"HRV_MFDFA_alpha1_Max\",\n          \"Delta_HRV_MSEn\",\n          \"HRV_AI\"\n        ],\n        \"semantic_type\": \"\",\n        \"description\": \"\"\n      }\n    },\n    {\n      \"column\": \"Importance\",\n      \"properties\": {\n        \"dtype\": \"number\",\n        \"std\": 0.037116222123213874,\n        \"min\": 0.0,\n        \"max\": 0.3701231348535621,\n        \"num_unique_values\": 130,\n        \"samples\": [\n          0.0004277278030112188,\n          0.000987066105489785,\n          0.00309178020580767\n        ],\n        \"semantic_type\": \"\",\n        \"description\": \"\"\n      }\n    }\n  ]\n}",
       "type": "dataframe",
       "variable_name": "feature_importance"
      },
      "text/html": [
       "\n",
       "  <div id=\"df-322719f2-856c-4798-b3c2-e3eb2522e419\" class=\"colab-df-container\">\n",
       "    <div>\n",
       "<style scoped>\n",
       "    .dataframe tbody tr th:only-of-type {\n",
       "        vertical-align: middle;\n",
       "    }\n",
       "\n",
       "    .dataframe tbody tr th {\n",
       "        vertical-align: top;\n",
       "    }\n",
       "\n",
       "    .dataframe thead th {\n",
       "        text-align: right;\n",
       "    }\n",
       "</style>\n",
       "<table border=\"1\" class=\"dataframe\">\n",
       "  <thead>\n",
       "    <tr style=\"text-align: right;\">\n",
       "      <th></th>\n",
       "      <th>Feature</th>\n",
       "      <th>Importance</th>\n",
       "    </tr>\n",
       "  </thead>\n",
       "  <tbody>\n",
       "    <tr>\n",
       "      <th>146</th>\n",
       "      <td>Block_ID</td>\n",
       "      <td>0.370123</td>\n",
       "    </tr>\n",
       "    <tr>\n",
       "      <th>145</th>\n",
       "      <td>Window_ID</td>\n",
       "      <td>0.204878</td>\n",
       "    </tr>\n",
       "    <tr>\n",
       "      <th>2</th>\n",
       "      <td>Age</td>\n",
       "      <td>0.132441</td>\n",
       "    </tr>\n",
       "    <tr>\n",
       "      <th>75</th>\n",
       "      <td>Change_from_Baseline</td>\n",
       "      <td>0.091926</td>\n",
       "    </tr>\n",
       "    <tr>\n",
       "      <th>84</th>\n",
       "      <td>Delta_HRV_MCVNN</td>\n",
       "      <td>0.044863</td>\n",
       "    </tr>\n",
       "    <tr>\n",
       "      <th>...</th>\n",
       "      <td>...</td>\n",
       "      <td>...</td>\n",
       "    </tr>\n",
       "    <tr>\n",
       "      <th>47</th>\n",
       "      <td>HRV_C2a</td>\n",
       "      <td>0.000000</td>\n",
       "    </tr>\n",
       "    <tr>\n",
       "      <th>54</th>\n",
       "      <td>HRV_DFA_alpha1</td>\n",
       "      <td>0.000000</td>\n",
       "    </tr>\n",
       "    <tr>\n",
       "      <th>63</th>\n",
       "      <td>HRV_ApEn</td>\n",
       "      <td>0.000000</td>\n",
       "    </tr>\n",
       "    <tr>\n",
       "      <th>67</th>\n",
       "      <td>HRV_MSEn</td>\n",
       "      <td>0.000000</td>\n",
       "    </tr>\n",
       "    <tr>\n",
       "      <th>73</th>\n",
       "      <td>HRV_LZC</td>\n",
       "      <td>0.000000</td>\n",
       "    </tr>\n",
       "  </tbody>\n",
       "</table>\n",
       "<p>147 rows × 2 columns</p>\n",
       "</div>\n",
       "    <div class=\"colab-df-buttons\">\n",
       "\n",
       "  <div class=\"colab-df-container\">\n",
       "    <button class=\"colab-df-convert\" onclick=\"convertToInteractive('df-322719f2-856c-4798-b3c2-e3eb2522e419')\"\n",
       "            title=\"Convert this dataframe to an interactive table.\"\n",
       "            style=\"display:none;\">\n",
       "\n",
       "  <svg xmlns=\"http://www.w3.org/2000/svg\" height=\"24px\" viewBox=\"0 -960 960 960\">\n",
       "    <path d=\"M120-120v-720h720v720H120Zm60-500h600v-160H180v160Zm220 220h160v-160H400v160Zm0 220h160v-160H400v160ZM180-400h160v-160H180v160Zm440 0h160v-160H620v160ZM180-180h160v-160H180v160Zm440 0h160v-160H620v160Z\"/>\n",
       "  </svg>\n",
       "    </button>\n",
       "\n",
       "  <style>\n",
       "    .colab-df-container {\n",
       "      display:flex;\n",
       "      gap: 12px;\n",
       "    }\n",
       "\n",
       "    .colab-df-convert {\n",
       "      background-color: #E8F0FE;\n",
       "      border: none;\n",
       "      border-radius: 50%;\n",
       "      cursor: pointer;\n",
       "      display: none;\n",
       "      fill: #1967D2;\n",
       "      height: 32px;\n",
       "      padding: 0 0 0 0;\n",
       "      width: 32px;\n",
       "    }\n",
       "\n",
       "    .colab-df-convert:hover {\n",
       "      background-color: #E2EBFA;\n",
       "      box-shadow: 0px 1px 2px rgba(60, 64, 67, 0.3), 0px 1px 3px 1px rgba(60, 64, 67, 0.15);\n",
       "      fill: #174EA6;\n",
       "    }\n",
       "\n",
       "    .colab-df-buttons div {\n",
       "      margin-bottom: 4px;\n",
       "    }\n",
       "\n",
       "    [theme=dark] .colab-df-convert {\n",
       "      background-color: #3B4455;\n",
       "      fill: #D2E3FC;\n",
       "    }\n",
       "\n",
       "    [theme=dark] .colab-df-convert:hover {\n",
       "      background-color: #434B5C;\n",
       "      box-shadow: 0px 1px 3px 1px rgba(0, 0, 0, 0.15);\n",
       "      filter: drop-shadow(0px 1px 2px rgba(0, 0, 0, 0.3));\n",
       "      fill: #FFFFFF;\n",
       "    }\n",
       "  </style>\n",
       "\n",
       "    <script>\n",
       "      const buttonEl =\n",
       "        document.querySelector('#df-322719f2-856c-4798-b3c2-e3eb2522e419 button.colab-df-convert');\n",
       "      buttonEl.style.display =\n",
       "        google.colab.kernel.accessAllowed ? 'block' : 'none';\n",
       "\n",
       "      async function convertToInteractive(key) {\n",
       "        const element = document.querySelector('#df-322719f2-856c-4798-b3c2-e3eb2522e419');\n",
       "        const dataTable =\n",
       "          await google.colab.kernel.invokeFunction('convertToInteractive',\n",
       "                                                    [key], {});\n",
       "        if (!dataTable) return;\n",
       "\n",
       "        const docLinkHtml = 'Like what you see? Visit the ' +\n",
       "          '<a target=\"_blank\" href=https://colab.research.google.com/notebooks/data_table.ipynb>data table notebook</a>'\n",
       "          + ' to learn more about interactive tables.';\n",
       "        element.innerHTML = '';\n",
       "        dataTable['output_type'] = 'display_data';\n",
       "        await google.colab.output.renderOutput(dataTable, element);\n",
       "        const docLink = document.createElement('div');\n",
       "        docLink.innerHTML = docLinkHtml;\n",
       "        element.appendChild(docLink);\n",
       "      }\n",
       "    </script>\n",
       "  </div>\n",
       "\n",
       "\n",
       "<div id=\"df-42f0c065-1e81-4e20-8fb3-4d3cde294c67\">\n",
       "  <button class=\"colab-df-quickchart\" onclick=\"quickchart('df-42f0c065-1e81-4e20-8fb3-4d3cde294c67')\"\n",
       "            title=\"Suggest charts\"\n",
       "            style=\"display:none;\">\n",
       "\n",
       "<svg xmlns=\"http://www.w3.org/2000/svg\" height=\"24px\"viewBox=\"0 0 24 24\"\n",
       "     width=\"24px\">\n",
       "    <g>\n",
       "        <path d=\"M19 3H5c-1.1 0-2 .9-2 2v14c0 1.1.9 2 2 2h14c1.1 0 2-.9 2-2V5c0-1.1-.9-2-2-2zM9 17H7v-7h2v7zm4 0h-2V7h2v10zm4 0h-2v-4h2v4z\"/>\n",
       "    </g>\n",
       "</svg>\n",
       "  </button>\n",
       "\n",
       "<style>\n",
       "  .colab-df-quickchart {\n",
       "      --bg-color: #E8F0FE;\n",
       "      --fill-color: #1967D2;\n",
       "      --hover-bg-color: #E2EBFA;\n",
       "      --hover-fill-color: #174EA6;\n",
       "      --disabled-fill-color: #AAA;\n",
       "      --disabled-bg-color: #DDD;\n",
       "  }\n",
       "\n",
       "  [theme=dark] .colab-df-quickchart {\n",
       "      --bg-color: #3B4455;\n",
       "      --fill-color: #D2E3FC;\n",
       "      --hover-bg-color: #434B5C;\n",
       "      --hover-fill-color: #FFFFFF;\n",
       "      --disabled-bg-color: #3B4455;\n",
       "      --disabled-fill-color: #666;\n",
       "  }\n",
       "\n",
       "  .colab-df-quickchart {\n",
       "    background-color: var(--bg-color);\n",
       "    border: none;\n",
       "    border-radius: 50%;\n",
       "    cursor: pointer;\n",
       "    display: none;\n",
       "    fill: var(--fill-color);\n",
       "    height: 32px;\n",
       "    padding: 0;\n",
       "    width: 32px;\n",
       "  }\n",
       "\n",
       "  .colab-df-quickchart:hover {\n",
       "    background-color: var(--hover-bg-color);\n",
       "    box-shadow: 0 1px 2px rgba(60, 64, 67, 0.3), 0 1px 3px 1px rgba(60, 64, 67, 0.15);\n",
       "    fill: var(--button-hover-fill-color);\n",
       "  }\n",
       "\n",
       "  .colab-df-quickchart-complete:disabled,\n",
       "  .colab-df-quickchart-complete:disabled:hover {\n",
       "    background-color: var(--disabled-bg-color);\n",
       "    fill: var(--disabled-fill-color);\n",
       "    box-shadow: none;\n",
       "  }\n",
       "\n",
       "  .colab-df-spinner {\n",
       "    border: 2px solid var(--fill-color);\n",
       "    border-color: transparent;\n",
       "    border-bottom-color: var(--fill-color);\n",
       "    animation:\n",
       "      spin 1s steps(1) infinite;\n",
       "  }\n",
       "\n",
       "  @keyframes spin {\n",
       "    0% {\n",
       "      border-color: transparent;\n",
       "      border-bottom-color: var(--fill-color);\n",
       "      border-left-color: var(--fill-color);\n",
       "    }\n",
       "    20% {\n",
       "      border-color: transparent;\n",
       "      border-left-color: var(--fill-color);\n",
       "      border-top-color: var(--fill-color);\n",
       "    }\n",
       "    30% {\n",
       "      border-color: transparent;\n",
       "      border-left-color: var(--fill-color);\n",
       "      border-top-color: var(--fill-color);\n",
       "      border-right-color: var(--fill-color);\n",
       "    }\n",
       "    40% {\n",
       "      border-color: transparent;\n",
       "      border-right-color: var(--fill-color);\n",
       "      border-top-color: var(--fill-color);\n",
       "    }\n",
       "    60% {\n",
       "      border-color: transparent;\n",
       "      border-right-color: var(--fill-color);\n",
       "    }\n",
       "    80% {\n",
       "      border-color: transparent;\n",
       "      border-right-color: var(--fill-color);\n",
       "      border-bottom-color: var(--fill-color);\n",
       "    }\n",
       "    90% {\n",
       "      border-color: transparent;\n",
       "      border-bottom-color: var(--fill-color);\n",
       "    }\n",
       "  }\n",
       "</style>\n",
       "\n",
       "  <script>\n",
       "    async function quickchart(key) {\n",
       "      const quickchartButtonEl =\n",
       "        document.querySelector('#' + key + ' button');\n",
       "      quickchartButtonEl.disabled = true;  // To prevent multiple clicks.\n",
       "      quickchartButtonEl.classList.add('colab-df-spinner');\n",
       "      try {\n",
       "        const charts = await google.colab.kernel.invokeFunction(\n",
       "            'suggestCharts', [key], {});\n",
       "      } catch (error) {\n",
       "        console.error('Error during call to suggestCharts:', error);\n",
       "      }\n",
       "      quickchartButtonEl.classList.remove('colab-df-spinner');\n",
       "      quickchartButtonEl.classList.add('colab-df-quickchart-complete');\n",
       "    }\n",
       "    (() => {\n",
       "      let quickchartButtonEl =\n",
       "        document.querySelector('#df-42f0c065-1e81-4e20-8fb3-4d3cde294c67 button');\n",
       "      quickchartButtonEl.style.display =\n",
       "        google.colab.kernel.accessAllowed ? 'block' : 'none';\n",
       "    })();\n",
       "  </script>\n",
       "</div>\n",
       "    </div>\n",
       "  </div>\n"
      ],
      "text/plain": [
       "                  Feature  Importance\n",
       "146              Block_ID    0.370123\n",
       "145             Window_ID    0.204878\n",
       "2                     Age    0.132441\n",
       "75   Change_from_Baseline    0.091926\n",
       "84        Delta_HRV_MCVNN    0.044863\n",
       "..                    ...         ...\n",
       "47                HRV_C2a    0.000000\n",
       "54         HRV_DFA_alpha1    0.000000\n",
       "63               HRV_ApEn    0.000000\n",
       "67               HRV_MSEn    0.000000\n",
       "73                HRV_LZC    0.000000\n",
       "\n",
       "[147 rows x 2 columns]"
      ]
     },
     "execution_count": 24,
     "metadata": {},
     "output_type": "execute_result"
    }
   ],
   "source": [
    "feature_importance"
   ]
  },
  {
   "cell_type": "code",
   "execution_count": 24,
   "metadata": {
    "executionInfo": {
     "elapsed": 4,
     "status": "ok",
     "timestamp": 1713803117990,
     "user": {
      "displayName": "Darshee Machhar",
      "userId": "10629581052995023893"
     },
     "user_tz": 240
    },
    "id": "KejYYYd61kea"
   },
   "outputs": [],
   "source": []
  }
 ],
 "metadata": {
  "colab": {
   "authorship_tag": "ABX9TyNxJQbpRE09nFg51Kbdxcck",
   "collapsed_sections": [
    "0Ahbx8y56uTd",
    "ovz8TaB_v15W"
   ],
   "provenance": []
  },
  "kernelspec": {
   "display_name": "Python 3 (ipykernel)",
   "language": "python",
   "name": "python3"
  },
  "language_info": {
   "codemirror_mode": {
    "name": "ipython",
    "version": 3
   },
   "file_extension": ".py",
   "mimetype": "text/x-python",
   "name": "python",
   "nbconvert_exporter": "python",
   "pygments_lexer": "ipython3",
   "version": "3.12.2"
  }
 },
 "nbformat": 4,
 "nbformat_minor": 4
}
